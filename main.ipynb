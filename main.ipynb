{
 "cells": [
  {
   "metadata": {},
   "cell_type": "markdown",
   "source": [
    "# Trabajo Práctico 1: Métricas custom para reducción de falsos positivos en clasificación binaria fraude\n",
    "\n",
    "https://github.com/markalbrand56/SDS-Proyecto-1\n",
    "\n",
    "**Mark Albrand - 21004**\n",
    "\n",
    "Función a optimizar:\n",
    "\n",
    "*Detectar fraudes en regiones con alta incidencia histórica*\n"
   ],
   "id": "50d54991f3a85448"
  },
  {
   "metadata": {
    "ExecuteTime": {
     "end_time": "2025-06-01T03:54:36.787700Z",
     "start_time": "2025-06-01T03:54:36.783229Z"
    }
   },
   "cell_type": "code",
   "source": [
    "# Variables creadas durante el feature engineering\n",
    "\n",
    "feature_engineering = [\n",
    "    \"fraud_rate_by_zip\",\n",
    "    \"fraud_rate_by_city\",\n",
    "    \"fraud_rate_by_state\",\n",
    "    \"city_fraud_count\",\n",
    "\n",
    "    \"monthly_zip_fraud_rate\",\n",
    "    \"rolling_fraud_rate_by_zip\",\n",
    "\n",
    "    \"region_density\",\n",
    "\n",
    "    \"high_risk_region\",\n",
    "]"
   ],
   "id": "fc6d08059fc6f864",
   "outputs": [],
   "execution_count": 21
  },
  {
   "cell_type": "code",
   "id": "initial_id",
   "metadata": {
    "collapsed": true,
    "ExecuteTime": {
     "end_time": "2025-06-01T03:54:37.080081Z",
     "start_time": "2025-06-01T03:54:37.076401Z"
    }
   },
   "source": [
    "import numpy as np\n",
    "import pandas as pd\n",
    "import matplotlib.pyplot as plt\n",
    "import seaborn as sns"
   ],
   "outputs": [],
   "execution_count": 22
  },
  {
   "metadata": {
    "ExecuteTime": {
     "end_time": "2025-06-01T03:54:44.602884Z",
     "start_time": "2025-06-01T03:54:37.369015Z"
    }
   },
   "cell_type": "code",
   "source": [
    "# dataset con las nuevas features\n",
    "dataset = pd.read_csv(\"data/dataset.csv\", index_col=0)"
   ],
   "id": "1972cebcc1492fab",
   "outputs": [],
   "execution_count": 23
  },
  {
   "metadata": {
    "ExecuteTime": {
     "end_time": "2025-06-01T03:54:44.623713Z",
     "start_time": "2025-06-01T03:54:44.620032Z"
    }
   },
   "cell_type": "code",
   "source": [
    "for c in dataset.columns:\n",
    "    print(c)"
   ],
   "id": "a80394546d72d3c5",
   "outputs": [
    {
     "name": "stdout",
     "output_type": "stream",
     "text": [
      "cc_num\n",
      "merchant\n",
      "category\n",
      "amt\n",
      "first\n",
      "last\n",
      "gender\n",
      "street\n",
      "city\n",
      "state\n",
      "zip\n",
      "lat\n",
      "long\n",
      "city_pop\n",
      "job\n",
      "dob\n",
      "trans_num\n",
      "unix_time\n",
      "merch_lat\n",
      "merch_long\n",
      "is_fraud\n",
      "amt_month\n",
      "amt_year\n",
      "amt_month_shopping_net_spend\n",
      "count_month_shopping_net\n",
      "first_time_at_merchant\n",
      "dist_between_client_and_merch\n",
      "trans_month\n",
      "trans_day\n",
      "hour\n",
      "year\n",
      "times_shopped_at_merchant\n",
      "times_shopped_at_merchant_year\n",
      "times_shopped_at_merchant_month\n",
      "times_shopped_at_merchant_day\n",
      "fraud_rate_by_zip\n",
      "fraud_rate_by_city\n",
      "fraud_rate_by_state\n",
      "city_fraud_count\n",
      "monthly_zip_fraud_rate\n",
      "rolling_fraud_rate_by_zip\n",
      "lat_bin\n",
      "long_bin\n",
      "region_density\n"
     ]
    }
   ],
   "execution_count": 24
  },
  {
   "metadata": {},
   "cell_type": "markdown",
   "source": "## Modelo Base",
   "id": "9ce5d56630fa01e2"
  },
  {
   "metadata": {
    "ExecuteTime": {
     "end_time": "2025-06-01T03:54:44.678315Z",
     "start_time": "2025-06-01T03:54:44.675480Z"
    }
   },
   "cell_type": "code",
   "source": "from sklearn.model_selection import train_test_split",
   "id": "89087dd0c7ab61ad",
   "outputs": [],
   "execution_count": 25
  },
  {
   "metadata": {
    "ExecuteTime": {
     "end_time": "2025-06-01T03:54:44.712605Z",
     "start_time": "2025-06-01T03:54:44.710223Z"
    }
   },
   "cell_type": "code",
   "source": [
    "drop_cols = [\n",
    "    'cc_num',\n",
    "    'first',\n",
    "    'last',\n",
    "    'street',\n",
    "    'trans_num',\n",
    "    'dob',\n",
    "]"
   ],
   "id": "7a602f8b6b79b2dc",
   "outputs": [],
   "execution_count": 26
  },
  {
   "metadata": {
    "ExecuteTime": {
     "end_time": "2025-06-01T03:54:44.951645Z",
     "start_time": "2025-06-01T03:54:44.730280Z"
    }
   },
   "cell_type": "code",
   "source": "dataset = dataset.drop(columns=drop_cols, errors='ignore')",
   "id": "7d4e9e5df37f54eb",
   "outputs": [],
   "execution_count": 27
  },
  {
   "metadata": {
    "ExecuteTime": {
     "end_time": "2025-06-01T03:54:48.361542Z",
     "start_time": "2025-06-01T03:54:48.359333Z"
    }
   },
   "cell_type": "code",
   "source": "from sklearn.preprocessing import LabelEncoder",
   "id": "7c9114dc93baebff",
   "outputs": [],
   "execution_count": 28
  },
  {
   "metadata": {
    "ExecuteTime": {
     "end_time": "2025-06-01T03:54:48.553452Z",
     "start_time": "2025-06-01T03:54:48.548458Z"
    }
   },
   "cell_type": "code",
   "source": [
    "# usar LabelEncoder para convertir las variables categóricas a numéricas\n",
    "label_encoder = LabelEncoder()"
   ],
   "id": "9b6c57dbc0e3ce0a",
   "outputs": [],
   "execution_count": 29
  },
  {
   "metadata": {
    "ExecuteTime": {
     "end_time": "2025-06-01T03:54:50.315803Z",
     "start_time": "2025-06-01T03:54:48.749458Z"
    }
   },
   "cell_type": "code",
   "source": [
    "categorical_cols = dataset.select_dtypes(include=['object']).columns\n",
    "\n",
    "for col in categorical_cols:\n",
    "    dataset[col] = label_encoder.fit_transform(dataset[col])"
   ],
   "id": "2b87d4d439414085",
   "outputs": [],
   "execution_count": 30
  },
  {
   "metadata": {
    "ExecuteTime": {
     "end_time": "2025-06-01T03:54:50.343781Z",
     "start_time": "2025-06-01T03:54:50.337859Z"
    }
   },
   "cell_type": "code",
   "source": "dataset[\"first_time_at_merchant\"] = dataset[\"first_time_at_merchant\"].astype(int)  # Booleano -> int",
   "id": "e1e0c8d866c248dd",
   "outputs": [],
   "execution_count": 31
  },
  {
   "metadata": {},
   "cell_type": "markdown",
   "source": [
    "*Detectar fraudes en regiones con alta incidencia histórica*\n",
    "\n",
    "Como la función a optimizar es esta, se definirá como \"high_risk_region\" una variable binaria que indica si la tasa de fraude en la región es mayor al percentil 90 de la tasa de fraude por código postal."
   ],
   "id": "1d172ea82cf0764a"
  },
  {
   "metadata": {
    "ExecuteTime": {
     "end_time": "2025-06-01T03:54:50.379990Z",
     "start_time": "2025-06-01T03:54:50.365253Z"
    }
   },
   "cell_type": "code",
   "source": [
    "threshold = dataset[\"fraud_rate_by_zip\"].quantile(0.90)\n",
    "dataset[\"high_risk_region\"] = (dataset[\"fraud_rate_by_zip\"] >= threshold).astype(int)"
   ],
   "id": "f1d48da9924eb7d3",
   "outputs": [],
   "execution_count": 32
  },
  {
   "metadata": {
    "ExecuteTime": {
     "end_time": "2025-06-01T03:54:52.347833Z",
     "start_time": "2025-06-01T03:54:50.924129Z"
    }
   },
   "cell_type": "code",
   "source": [
    "plt.figure(figsize=(10, 6))\n",
    "sns.countplot(x=\"high_risk_region\", data=dataset)\n",
    "plt.title(\"Distribución de la variable 'high_risk_region'\")\n",
    "plt.xlabel(\"high_risk_region\")\n",
    "plt.ylabel(\"Cantidad de transacciones\")\n",
    "plt.xticks([0, 1], [\"Baja\", \"Alta\"])\n",
    "plt.show()"
   ],
   "id": "a5eab2986550722c",
   "outputs": [
    {
     "data": {
      "text/plain": [
       "<Figure size 1000x600 with 1 Axes>"
      ],
      "image/png": "[encoded data removed]"
     },
     "metadata": {},
     "output_type": "display_data"
    }
   ],
   "execution_count": 33
  },
  {
   "metadata": {},
   "cell_type": "markdown",
   "source": "### Separar variables predictoras y variable objetivo",
   "id": "b0c5e25ef6cff812"
  },
  {
   "metadata": {
    "ExecuteTime": {
     "end_time": "2025-06-01T03:54:52.479117Z",
     "start_time": "2025-06-01T03:54:52.385384Z"
    }
   },
   "cell_type": "code",
   "source": [
    "X = dataset.drop(columns=[\"is_fraud\"])\n",
    "y = dataset[\"is_fraud\"]"
   ],
   "id": "f1ded4d6a614c78c",
   "outputs": [],
   "execution_count": 34
  },
  {
   "metadata": {
    "ExecuteTime": {
     "end_time": "2025-06-01T03:54:52.516943Z",
     "start_time": "2025-06-01T03:54:52.505742Z"
    }
   },
   "cell_type": "code",
   "source": "X.head()",
   "id": "9ad27046954d7fe3",
   "outputs": [
    {
     "data": {
      "text/plain": [
       "      merchant  category    amt  gender  city  state   zip      lat     long  \\\n",
       "1514       398         7  48.43       0   753     19  1257  42.1001 -73.3611   \n",
       "2491       351         8   1.58       0   753     19  1257  42.1001 -73.3611   \n",
       "4762       174        11   6.10       0   753     19  1257  42.1001 -73.3611   \n",
       "6043       492         6   8.42       0   753     19  1257  42.1001 -73.3611   \n",
       "6499       273         2  31.53       0   753     19  1257  42.1001 -73.3611   \n",
       "\n",
       "      city_pop  ...  fraud_rate_by_zip  fraud_rate_by_city  \\\n",
       "1514      2121  ...           0.003079            0.003079   \n",
       "2491      2121  ...           0.003079            0.003079   \n",
       "4762      2121  ...           0.003079            0.003079   \n",
       "6043      2121  ...           0.003079            0.003079   \n",
       "6499      2121  ...           0.003079            0.003079   \n",
       "\n",
       "      fraud_rate_by_state  city_fraud_count  monthly_zip_fraud_rate  \\\n",
       "1514             0.004954                 9                     0.0   \n",
       "2491             0.004954                 9                     0.0   \n",
       "4762             0.004954                 9                     0.0   \n",
       "6043             0.004954                 9                     0.0   \n",
       "6499             0.004954                 9                     0.0   \n",
       "\n",
       "      rolling_fraud_rate_by_zip  lat_bin  long_bin  region_density  \\\n",
       "1514                        0.0       19        19           18308   \n",
       "2491                        0.0       19        19           18308   \n",
       "4762                        0.0       19        19           18308   \n",
       "6043                        0.0       19        19           18308   \n",
       "6499                        0.0       19        19           18308   \n",
       "\n",
       "      high_risk_region  \n",
       "1514                 0  \n",
       "2491                 0  \n",
       "4762                 0  \n",
       "6043                 0  \n",
       "6499                 0  \n",
       "\n",
       "[5 rows x 38 columns]"
      ],
      "text/html": [
       "<div>\n",
       "<style scoped>\n",
       "    .dataframe tbody tr th:only-of-type {\n",
       "        vertical-align: middle;\n",
       "    }\n",
       "\n",
       "    .dataframe tbody tr th {\n",
       "        vertical-align: top;\n",
       "    }\n",
       "\n",
       "    .dataframe thead th {\n",
       "        text-align: right;\n",
       "    }\n",
       "</style>\n",
       "<table border=\"1\" class=\"dataframe\">\n",
       "  <thead>\n",
       "    <tr style=\"text-align: right;\">\n",
       "      <th></th>\n",
       "      <th>merchant</th>\n",
       "      <th>category</th>\n",
       "      <th>amt</th>\n",
       "      <th>gender</th>\n",
       "      <th>city</th>\n",
       "      <th>state</th>\n",
       "      <th>zip</th>\n",
       "      <th>lat</th>\n",
       "      <th>long</th>\n",
       "      <th>city_pop</th>\n",
       "      <th>...</th>\n",
       "      <th>fraud_rate_by_zip</th>\n",
       "      <th>fraud_rate_by_city</th>\n",
       "      <th>fraud_rate_by_state</th>\n",
       "      <th>city_fraud_count</th>\n",
       "      <th>monthly_zip_fraud_rate</th>\n",
       "      <th>rolling_fraud_rate_by_zip</th>\n",
       "      <th>lat_bin</th>\n",
       "      <th>long_bin</th>\n",
       "      <th>region_density</th>\n",
       "      <th>high_risk_region</th>\n",
       "    </tr>\n",
       "  </thead>\n",
       "  <tbody>\n",
       "    <tr>\n",
       "      <th>1514</th>\n",
       "      <td>398</td>\n",
       "      <td>7</td>\n",
       "      <td>48.43</td>\n",
       "      <td>0</td>\n",
       "      <td>753</td>\n",
       "      <td>19</td>\n",
       "      <td>1257</td>\n",
       "      <td>42.1001</td>\n",
       "      <td>-73.3611</td>\n",
       "      <td>2121</td>\n",
       "      <td>...</td>\n",
       "      <td>0.003079</td>\n",
       "      <td>0.003079</td>\n",
       "      <td>0.004954</td>\n",
       "      <td>9</td>\n",
       "      <td>0.0</td>\n",
       "      <td>0.0</td>\n",
       "      <td>19</td>\n",
       "      <td>19</td>\n",
       "      <td>18308</td>\n",
       "      <td>0</td>\n",
       "    </tr>\n",
       "    <tr>\n",
       "      <th>2491</th>\n",
       "      <td>351</td>\n",
       "      <td>8</td>\n",
       "      <td>1.58</td>\n",
       "      <td>0</td>\n",
       "      <td>753</td>\n",
       "      <td>19</td>\n",
       "      <td>1257</td>\n",
       "      <td>42.1001</td>\n",
       "      <td>-73.3611</td>\n",
       "      <td>2121</td>\n",
       "      <td>...</td>\n",
       "      <td>0.003079</td>\n",
       "      <td>0.003079</td>\n",
       "      <td>0.004954</td>\n",
       "      <td>9</td>\n",
       "      <td>0.0</td>\n",
       "      <td>0.0</td>\n",
       "      <td>19</td>\n",
       "      <td>19</td>\n",
       "      <td>18308</td>\n",
       "      <td>0</td>\n",
       "    </tr>\n",
       "    <tr>\n",
       "      <th>4762</th>\n",
       "      <td>174</td>\n",
       "      <td>11</td>\n",
       "      <td>6.10</td>\n",
       "      <td>0</td>\n",
       "      <td>753</td>\n",
       "      <td>19</td>\n",
       "      <td>1257</td>\n",
       "      <td>42.1001</td>\n",
       "      <td>-73.3611</td>\n",
       "      <td>2121</td>\n",
       "      <td>...</td>\n",
       "      <td>0.003079</td>\n",
       "      <td>0.003079</td>\n",
       "      <td>0.004954</td>\n",
       "      <td>9</td>\n",
       "      <td>0.0</td>\n",
       "      <td>0.0</td>\n",
       "      <td>19</td>\n",
       "      <td>19</td>\n",
       "      <td>18308</td>\n",
       "      <td>0</td>\n",
       "    </tr>\n",
       "    <tr>\n",
       "      <th>6043</th>\n",
       "      <td>492</td>\n",
       "      <td>6</td>\n",
       "      <td>8.42</td>\n",
       "      <td>0</td>\n",
       "      <td>753</td>\n",
       "      <td>19</td>\n",
       "      <td>1257</td>\n",
       "      <td>42.1001</td>\n",
       "      <td>-73.3611</td>\n",
       "      <td>2121</td>\n",
       "      <td>...</td>\n",
       "      <td>0.003079</td>\n",
       "      <td>0.003079</td>\n",
       "      <td>0.004954</td>\n",
       "      <td>9</td>\n",
       "      <td>0.0</td>\n",
       "      <td>0.0</td>\n",
       "      <td>19</td>\n",
       "      <td>19</td>\n",
       "      <td>18308</td>\n",
       "      <td>0</td>\n",
       "    </tr>\n",
       "    <tr>\n",
       "      <th>6499</th>\n",
       "      <td>273</td>\n",
       "      <td>2</td>\n",
       "      <td>31.53</td>\n",
       "      <td>0</td>\n",
       "      <td>753</td>\n",
       "      <td>19</td>\n",
       "      <td>1257</td>\n",
       "      <td>42.1001</td>\n",
       "      <td>-73.3611</td>\n",
       "      <td>2121</td>\n",
       "      <td>...</td>\n",
       "      <td>0.003079</td>\n",
       "      <td>0.003079</td>\n",
       "      <td>0.004954</td>\n",
       "      <td>9</td>\n",
       "      <td>0.0</td>\n",
       "      <td>0.0</td>\n",
       "      <td>19</td>\n",
       "      <td>19</td>\n",
       "      <td>18308</td>\n",
       "      <td>0</td>\n",
       "    </tr>\n",
       "  </tbody>\n",
       "</table>\n",
       "<p>5 rows × 38 columns</p>\n",
       "</div>"
      ]
     },
     "execution_count": 35,
     "metadata": {},
     "output_type": "execute_result"
    }
   ],
   "execution_count": 35
  },
  {
   "metadata": {
    "ExecuteTime": {
     "end_time": "2025-06-01T03:54:54.639282Z",
     "start_time": "2025-06-01T03:54:54.634281Z"
    }
   },
   "cell_type": "code",
   "source": "y.head()",
   "id": "5143b90bcb9cd34e",
   "outputs": [
    {
     "data": {
      "text/plain": [
       "1514    0\n",
       "2491    0\n",
       "4762    0\n",
       "6043    0\n",
       "6499    0\n",
       "Name: is_fraud, dtype: int64"
      ]
     },
     "execution_count": 36,
     "metadata": {},
     "output_type": "execute_result"
    }
   ],
   "execution_count": 36
  },
  {
   "metadata": {
    "ExecuteTime": {
     "end_time": "2025-06-01T03:54:57.739626Z",
     "start_time": "2025-06-01T03:54:57.529134Z"
    }
   },
   "cell_type": "code",
   "source": [
    "X_train = X[X[\"unix_time\"] < X[\"unix_time\"].quantile(0.75)]\n",
    "X_test = X[X[\"unix_time\"] >= X[\"unix_time\"].quantile(0.75)]\n",
    "y_train = y[X[\"unix_time\"] < X[\"unix_time\"].quantile(0.75)]\n",
    "y_test = y[X[\"unix_time\"] >= X[\"unix_time\"].quantile(0.75)]"
   ],
   "id": "3254565172afb99b",
   "outputs": [],
   "execution_count": 37
  },
  {
   "metadata": {
    "ExecuteTime": {
     "end_time": "2025-06-01T03:57:00.613543Z",
     "start_time": "2025-06-01T03:57:00.603691Z"
    }
   },
   "cell_type": "code",
   "source": [
    "print(f\"Dataset {pd.to_datetime(X['unix_time'].min(), unit='s')} - {pd.to_datetime(X['unix_time'].max(), unit='s')}\")\n",
    "print(f\"Train {pd.to_datetime(X_train['unix_time'].min(), unit='s')} - {pd.to_datetime(X_train['unix_time'].max(), unit='s')}\")\n",
    "print(f\"Test {pd.to_datetime(X_test['unix_time'].min(), unit='s')} - {pd.to_datetime(X_test['unix_time'].max(), unit='s')}\")"
   ],
   "id": "f5f49fb9acc8a1e1",
   "outputs": [
    {
     "name": "stdout",
     "output_type": "stream",
     "text": [
      "Dataset 2012-01-01 00:00:18 - 2013-12-31 23:59:34\n",
      "Train 2012-01-01 00:00:18 - 2013-07-23 12:09:59\n",
      "Test 2013-07-23 12:11:54 - 2013-12-31 23:59:34\n"
     ]
    }
   ],
   "execution_count": 40
  },
  {
   "metadata": {
    "ExecuteTime": {
     "end_time": "2025-06-01T03:57:57.865781Z",
     "start_time": "2025-06-01T03:57:57.793428Z"
    }
   },
   "cell_type": "code",
   "source": [
    "X_train_base = X_train.drop(columns=feature_engineering)\n",
    "X_test_base = X_test.drop(columns=feature_engineering)\n",
    "y_train_base = y_train\n",
    "y_test_base = y_test"
   ],
   "id": "9011bba9dd7ce2d",
   "outputs": [],
   "execution_count": 46
  },
  {
   "metadata": {},
   "cell_type": "markdown",
   "source": "## Modelo inicial",
   "id": "f9f997ce695787d4"
  },
  {
   "metadata": {
    "ExecuteTime": {
     "end_time": "2025-06-01T03:57:59.542128Z",
     "start_time": "2025-06-01T03:57:59.539534Z"
    }
   },
   "cell_type": "code",
   "source": "from lightgbm import LGBMClassifier",
   "id": "a15c7d13c25b6148",
   "outputs": [],
   "execution_count": 47
  },
  {
   "metadata": {
    "ExecuteTime": {
     "end_time": "2025-06-01T03:58:00.312667Z",
     "start_time": "2025-06-01T03:58:00.309150Z"
    }
   },
   "cell_type": "code",
   "source": [
    "model = LGBMClassifier(\n",
    "    objective=\"binary\",\n",
    "    class_weight=\"balanced\",\n",
    "    random_state=42,\n",
    "    n_jobs=-1\n",
    ")"
   ],
   "id": "bdddc524ccc2e729",
   "outputs": [],
   "execution_count": 48
  },
  {
   "metadata": {
    "ExecuteTime": {
     "end_time": "2025-06-01T03:58:04.530956Z",
     "start_time": "2025-06-01T03:58:01.822272Z"
    }
   },
   "cell_type": "code",
   "source": [
    "model.fit(\n",
    "    X_train_base, y_train_base,\n",
    ")"
   ],
   "id": "2a89577d5b9d1306",
   "outputs": [
    {
     "name": "stdout",
     "output_type": "stream",
     "text": [
      "[LightGBM] [Info] Number of positive: 7891, number of negative: 1381404\n",
      "[LightGBM] [Info] Auto-choosing row-wise multi-threading, the overhead of testing was 0.027670 seconds.\n",
      "You can set `force_row_wise=true` to remove the overhead.\n",
      "And if memory is not enough, you can set `force_col_wise=true`.\n",
      "[LightGBM] [Info] Total Bins 4080\n",
      "[LightGBM] [Info] Number of data points in the train set: 1389295, number of used features: 30\n",
      "[LightGBM] [Info] [binary:BoostFromScore]: pavg=0.500000 -> initscore=0.000000\n",
      "[LightGBM] [Info] Start training from score 0.000000\n"
     ]
    },
    {
     "data": {
      "text/plain": [
       "LGBMClassifier(class_weight='balanced', n_jobs=-1, objective='binary',\n",
       "               random_state=42)"
      ],
      "text/html": [
       "<style>#sk-container-id-2 {\n",
       "  /* Definition of color scheme common for light and dark mode */\n",
       "  --sklearn-color-text: #000;\n",
       "  --sklearn-color-text-muted: #666;\n",
       "  --sklearn-color-line: gray;\n",
       "  /* Definition of color scheme for unfitted estimators */\n",
       "  --sklearn-color-unfitted-level-0: #fff5e6;\n",
       "  --sklearn-color-unfitted-level-1: #f6e4d2;\n",
       "  --sklearn-color-unfitted-level-2: #ffe0b3;\n",
       "  --sklearn-color-unfitted-level-3: chocolate;\n",
       "  /* Definition of color scheme for fitted estimators */\n",
       "  --sklearn-color-fitted-level-0: #f0f8ff;\n",
       "  --sklearn-color-fitted-level-1: #d4ebff;\n",
       "  --sklearn-color-fitted-level-2: #b3dbfd;\n",
       "  --sklearn-color-fitted-level-3: cornflowerblue;\n",
       "\n",
       "  /* Specific color for light theme */\n",
       "  --sklearn-color-text-on-default-background: var(--sg-text-color, var(--theme-code-foreground, var(--jp-content-font-color1, black)));\n",
       "  --sklearn-color-background: var(--sg-background-color, var(--theme-background, var(--jp-layout-color0, white)));\n",
       "  --sklearn-color-border-box: var(--sg-text-color, var(--theme-code-foreground, var(--jp-content-font-color1, black)));\n",
       "  --sklearn-color-icon: #696969;\n",
       "\n",
       "  @media (prefers-color-scheme: dark) {\n",
       "    /* Redefinition of color scheme for dark theme */\n",
       "    --sklearn-color-text-on-default-background: var(--sg-text-color, var(--theme-code-foreground, var(--jp-content-font-color1, white)));\n",
       "    --sklearn-color-background: var(--sg-background-color, var(--theme-background, var(--jp-layout-color0, #111)));\n",
       "    --sklearn-color-border-box: var(--sg-text-color, var(--theme-code-foreground, var(--jp-content-font-color1, white)));\n",
       "    --sklearn-color-icon: #878787;\n",
       "  }\n",
       "}\n",
       "\n",
       "#sk-container-id-2 {\n",
       "  color: var(--sklearn-color-text);\n",
       "}\n",
       "\n",
       "#sk-container-id-2 pre {\n",
       "  padding: 0;\n",
       "}\n",
       "\n",
       "#sk-container-id-2 input.sk-hidden--visually {\n",
       "  border: 0;\n",
       "  clip: rect(1px 1px 1px 1px);\n",
       "  clip: rect(1px, 1px, 1px, 1px);\n",
       "  height: 1px;\n",
       "  margin: -1px;\n",
       "  overflow: hidden;\n",
       "  padding: 0;\n",
       "  position: absolute;\n",
       "  width: 1px;\n",
       "}\n",
       "\n",
       "#sk-container-id-2 div.sk-dashed-wrapped {\n",
       "  border: 1px dashed var(--sklearn-color-line);\n",
       "  margin: 0 0.4em 0.5em 0.4em;\n",
       "  box-sizing: border-box;\n",
       "  padding-bottom: 0.4em;\n",
       "  background-color: var(--sklearn-color-background);\n",
       "}\n",
       "\n",
       "#sk-container-id-2 div.sk-container {\n",
       "  /* jupyter's `normalize.less` sets `[hidden] { display: none; }`\n",
       "     but bootstrap.min.css set `[hidden] { display: none !important; }`\n",
       "     so we also need the `!important` here to be able to override the\n",
       "     default hidden behavior on the sphinx rendered scikit-learn.org.\n",
       "     See: https://github.com/scikit-learn/scikit-learn/issues/21755 */\n",
       "  display: inline-block !important;\n",
       "  position: relative;\n",
       "}\n",
       "\n",
       "#sk-container-id-2 div.sk-text-repr-fallback {\n",
       "  display: none;\n",
       "}\n",
       "\n",
       "div.sk-parallel-item,\n",
       "div.sk-serial,\n",
       "div.sk-item {\n",
       "  /* draw centered vertical line to link estimators */\n",
       "  background-image: linear-gradient(var(--sklearn-color-text-on-default-background), var(--sklearn-color-text-on-default-background));\n",
       "  background-size: 2px 100%;\n",
       "  background-repeat: no-repeat;\n",
       "  background-position: center center;\n",
       "}\n",
       "\n",
       "/* Parallel-specific style estimator block */\n",
       "\n",
       "#sk-container-id-2 div.sk-parallel-item::after {\n",
       "  content: \"\";\n",
       "  width: 100%;\n",
       "  border-bottom: 2px solid var(--sklearn-color-text-on-default-background);\n",
       "  flex-grow: 1;\n",
       "}\n",
       "\n",
       "#sk-container-id-2 div.sk-parallel {\n",
       "  display: flex;\n",
       "  align-items: stretch;\n",
       "  justify-content: center;\n",
       "  background-color: var(--sklearn-color-background);\n",
       "  position: relative;\n",
       "}\n",
       "\n",
       "#sk-container-id-2 div.sk-parallel-item {\n",
       "  display: flex;\n",
       "  flex-direction: column;\n",
       "}\n",
       "\n",
       "#sk-container-id-2 div.sk-parallel-item:first-child::after {\n",
       "  align-self: flex-end;\n",
       "  width: 50%;\n",
       "}\n",
       "\n",
       "#sk-container-id-2 div.sk-parallel-item:last-child::after {\n",
       "  align-self: flex-start;\n",
       "  width: 50%;\n",
       "}\n",
       "\n",
       "#sk-container-id-2 div.sk-parallel-item:only-child::after {\n",
       "  width: 0;\n",
       "}\n",
       "\n",
       "/* Serial-specific style estimator block */\n",
       "\n",
       "#sk-container-id-2 div.sk-serial {\n",
       "  display: flex;\n",
       "  flex-direction: column;\n",
       "  align-items: center;\n",
       "  background-color: var(--sklearn-color-background);\n",
       "  padding-right: 1em;\n",
       "  padding-left: 1em;\n",
       "}\n",
       "\n",
       "\n",
       "/* Toggleable style: style used for estimator/Pipeline/ColumnTransformer box that is\n",
       "clickable and can be expanded/collapsed.\n",
       "- Pipeline and ColumnTransformer use this feature and define the default style\n",
       "- Estimators will overwrite some part of the style using the `sk-estimator` class\n",
       "*/\n",
       "\n",
       "/* Pipeline and ColumnTransformer style (default) */\n",
       "\n",
       "#sk-container-id-2 div.sk-toggleable {\n",
       "  /* Default theme specific background. It is overwritten whether we have a\n",
       "  specific estimator or a Pipeline/ColumnTransformer */\n",
       "  background-color: var(--sklearn-color-background);\n",
       "}\n",
       "\n",
       "/* Toggleable label */\n",
       "#sk-container-id-2 label.sk-toggleable__label {\n",
       "  cursor: pointer;\n",
       "  display: flex;\n",
       "  width: 100%;\n",
       "  margin-bottom: 0;\n",
       "  padding: 0.5em;\n",
       "  box-sizing: border-box;\n",
       "  text-align: center;\n",
       "  align-items: start;\n",
       "  justify-content: space-between;\n",
       "  gap: 0.5em;\n",
       "}\n",
       "\n",
       "#sk-container-id-2 label.sk-toggleable__label .caption {\n",
       "  font-size: 0.6rem;\n",
       "  font-weight: lighter;\n",
       "  color: var(--sklearn-color-text-muted);\n",
       "}\n",
       "\n",
       "#sk-container-id-2 label.sk-toggleable__label-arrow:before {\n",
       "  /* Arrow on the left of the label */\n",
       "  content: \"▸\";\n",
       "  float: left;\n",
       "  margin-right: 0.25em;\n",
       "  color: var(--sklearn-color-icon);\n",
       "}\n",
       "\n",
       "#sk-container-id-2 label.sk-toggleable__label-arrow:hover:before {\n",
       "  color: var(--sklearn-color-text);\n",
       "}\n",
       "\n",
       "/* Toggleable content - dropdown */\n",
       "\n",
       "#sk-container-id-2 div.sk-toggleable__content {\n",
       "  max-height: 0;\n",
       "  max-width: 0;\n",
       "  overflow: hidden;\n",
       "  text-align: left;\n",
       "  /* unfitted */\n",
       "  background-color: var(--sklearn-color-unfitted-level-0);\n",
       "}\n",
       "\n",
       "#sk-container-id-2 div.sk-toggleable__content.fitted {\n",
       "  /* fitted */\n",
       "  background-color: var(--sklearn-color-fitted-level-0);\n",
       "}\n",
       "\n",
       "#sk-container-id-2 div.sk-toggleable__content pre {\n",
       "  margin: 0.2em;\n",
       "  border-radius: 0.25em;\n",
       "  color: var(--sklearn-color-text);\n",
       "  /* unfitted */\n",
       "  background-color: var(--sklearn-color-unfitted-level-0);\n",
       "}\n",
       "\n",
       "#sk-container-id-2 div.sk-toggleable__content.fitted pre {\n",
       "  /* unfitted */\n",
       "  background-color: var(--sklearn-color-fitted-level-0);\n",
       "}\n",
       "\n",
       "#sk-container-id-2 input.sk-toggleable__control:checked~div.sk-toggleable__content {\n",
       "  /* Expand drop-down */\n",
       "  max-height: 200px;\n",
       "  max-width: 100%;\n",
       "  overflow: auto;\n",
       "}\n",
       "\n",
       "#sk-container-id-2 input.sk-toggleable__control:checked~label.sk-toggleable__label-arrow:before {\n",
       "  content: \"▾\";\n",
       "}\n",
       "\n",
       "/* Pipeline/ColumnTransformer-specific style */\n",
       "\n",
       "#sk-container-id-2 div.sk-label input.sk-toggleable__control:checked~label.sk-toggleable__label {\n",
       "  color: var(--sklearn-color-text);\n",
       "  background-color: var(--sklearn-color-unfitted-level-2);\n",
       "}\n",
       "\n",
       "#sk-container-id-2 div.sk-label.fitted input.sk-toggleable__control:checked~label.sk-toggleable__label {\n",
       "  background-color: var(--sklearn-color-fitted-level-2);\n",
       "}\n",
       "\n",
       "/* Estimator-specific style */\n",
       "\n",
       "/* Colorize estimator box */\n",
       "#sk-container-id-2 div.sk-estimator input.sk-toggleable__control:checked~label.sk-toggleable__label {\n",
       "  /* unfitted */\n",
       "  background-color: var(--sklearn-color-unfitted-level-2);\n",
       "}\n",
       "\n",
       "#sk-container-id-2 div.sk-estimator.fitted input.sk-toggleable__control:checked~label.sk-toggleable__label {\n",
       "  /* fitted */\n",
       "  background-color: var(--sklearn-color-fitted-level-2);\n",
       "}\n",
       "\n",
       "#sk-container-id-2 div.sk-label label.sk-toggleable__label,\n",
       "#sk-container-id-2 div.sk-label label {\n",
       "  /* The background is the default theme color */\n",
       "  color: var(--sklearn-color-text-on-default-background);\n",
       "}\n",
       "\n",
       "/* On hover, darken the color of the background */\n",
       "#sk-container-id-2 div.sk-label:hover label.sk-toggleable__label {\n",
       "  color: var(--sklearn-color-text);\n",
       "  background-color: var(--sklearn-color-unfitted-level-2);\n",
       "}\n",
       "\n",
       "/* Label box, darken color on hover, fitted */\n",
       "#sk-container-id-2 div.sk-label.fitted:hover label.sk-toggleable__label.fitted {\n",
       "  color: var(--sklearn-color-text);\n",
       "  background-color: var(--sklearn-color-fitted-level-2);\n",
       "}\n",
       "\n",
       "/* Estimator label */\n",
       "\n",
       "#sk-container-id-2 div.sk-label label {\n",
       "  font-family: monospace;\n",
       "  font-weight: bold;\n",
       "  display: inline-block;\n",
       "  line-height: 1.2em;\n",
       "}\n",
       "\n",
       "#sk-container-id-2 div.sk-label-container {\n",
       "  text-align: center;\n",
       "}\n",
       "\n",
       "/* Estimator-specific */\n",
       "#sk-container-id-2 div.sk-estimator {\n",
       "  font-family: monospace;\n",
       "  border: 1px dotted var(--sklearn-color-border-box);\n",
       "  border-radius: 0.25em;\n",
       "  box-sizing: border-box;\n",
       "  margin-bottom: 0.5em;\n",
       "  /* unfitted */\n",
       "  background-color: var(--sklearn-color-unfitted-level-0);\n",
       "}\n",
       "\n",
       "#sk-container-id-2 div.sk-estimator.fitted {\n",
       "  /* fitted */\n",
       "  background-color: var(--sklearn-color-fitted-level-0);\n",
       "}\n",
       "\n",
       "/* on hover */\n",
       "#sk-container-id-2 div.sk-estimator:hover {\n",
       "  /* unfitted */\n",
       "  background-color: var(--sklearn-color-unfitted-level-2);\n",
       "}\n",
       "\n",
       "#sk-container-id-2 div.sk-estimator.fitted:hover {\n",
       "  /* fitted */\n",
       "  background-color: var(--sklearn-color-fitted-level-2);\n",
       "}\n",
       "\n",
       "/* Specification for estimator info (e.g. \"i\" and \"?\") */\n",
       "\n",
       "/* Common style for \"i\" and \"?\" */\n",
       "\n",
       ".sk-estimator-doc-link,\n",
       "a:link.sk-estimator-doc-link,\n",
       "a:visited.sk-estimator-doc-link {\n",
       "  float: right;\n",
       "  font-size: smaller;\n",
       "  line-height: 1em;\n",
       "  font-family: monospace;\n",
       "  background-color: var(--sklearn-color-background);\n",
       "  border-radius: 1em;\n",
       "  height: 1em;\n",
       "  width: 1em;\n",
       "  text-decoration: none !important;\n",
       "  margin-left: 0.5em;\n",
       "  text-align: center;\n",
       "  /* unfitted */\n",
       "  border: var(--sklearn-color-unfitted-level-1) 1pt solid;\n",
       "  color: var(--sklearn-color-unfitted-level-1);\n",
       "}\n",
       "\n",
       ".sk-estimator-doc-link.fitted,\n",
       "a:link.sk-estimator-doc-link.fitted,\n",
       "a:visited.sk-estimator-doc-link.fitted {\n",
       "  /* fitted */\n",
       "  border: var(--sklearn-color-fitted-level-1) 1pt solid;\n",
       "  color: var(--sklearn-color-fitted-level-1);\n",
       "}\n",
       "\n",
       "/* On hover */\n",
       "div.sk-estimator:hover .sk-estimator-doc-link:hover,\n",
       ".sk-estimator-doc-link:hover,\n",
       "div.sk-label-container:hover .sk-estimator-doc-link:hover,\n",
       ".sk-estimator-doc-link:hover {\n",
       "  /* unfitted */\n",
       "  background-color: var(--sklearn-color-unfitted-level-3);\n",
       "  color: var(--sklearn-color-background);\n",
       "  text-decoration: none;\n",
       "}\n",
       "\n",
       "div.sk-estimator.fitted:hover .sk-estimator-doc-link.fitted:hover,\n",
       ".sk-estimator-doc-link.fitted:hover,\n",
       "div.sk-label-container:hover .sk-estimator-doc-link.fitted:hover,\n",
       ".sk-estimator-doc-link.fitted:hover {\n",
       "  /* fitted */\n",
       "  background-color: var(--sklearn-color-fitted-level-3);\n",
       "  color: var(--sklearn-color-background);\n",
       "  text-decoration: none;\n",
       "}\n",
       "\n",
       "/* Span, style for the box shown on hovering the info icon */\n",
       ".sk-estimator-doc-link span {\n",
       "  display: none;\n",
       "  z-index: 9999;\n",
       "  position: relative;\n",
       "  font-weight: normal;\n",
       "  right: .2ex;\n",
       "  padding: .5ex;\n",
       "  margin: .5ex;\n",
       "  width: min-content;\n",
       "  min-width: 20ex;\n",
       "  max-width: 50ex;\n",
       "  color: var(--sklearn-color-text);\n",
       "  box-shadow: 2pt 2pt 4pt #999;\n",
       "  /* unfitted */\n",
       "  background: var(--sklearn-color-unfitted-level-0);\n",
       "  border: .5pt solid var(--sklearn-color-unfitted-level-3);\n",
       "}\n",
       "\n",
       ".sk-estimator-doc-link.fitted span {\n",
       "  /* fitted */\n",
       "  background: var(--sklearn-color-fitted-level-0);\n",
       "  border: var(--sklearn-color-fitted-level-3);\n",
       "}\n",
       "\n",
       ".sk-estimator-doc-link:hover span {\n",
       "  display: block;\n",
       "}\n",
       "\n",
       "/* \"?\"-specific style due to the `<a>` HTML tag */\n",
       "\n",
       "#sk-container-id-2 a.estimator_doc_link {\n",
       "  float: right;\n",
       "  font-size: 1rem;\n",
       "  line-height: 1em;\n",
       "  font-family: monospace;\n",
       "  background-color: var(--sklearn-color-background);\n",
       "  border-radius: 1rem;\n",
       "  height: 1rem;\n",
       "  width: 1rem;\n",
       "  text-decoration: none;\n",
       "  /* unfitted */\n",
       "  color: var(--sklearn-color-unfitted-level-1);\n",
       "  border: var(--sklearn-color-unfitted-level-1) 1pt solid;\n",
       "}\n",
       "\n",
       "#sk-container-id-2 a.estimator_doc_link.fitted {\n",
       "  /* fitted */\n",
       "  border: var(--sklearn-color-fitted-level-1) 1pt solid;\n",
       "  color: var(--sklearn-color-fitted-level-1);\n",
       "}\n",
       "\n",
       "/* On hover */\n",
       "#sk-container-id-2 a.estimator_doc_link:hover {\n",
       "  /* unfitted */\n",
       "  background-color: var(--sklearn-color-unfitted-level-3);\n",
       "  color: var(--sklearn-color-background);\n",
       "  text-decoration: none;\n",
       "}\n",
       "\n",
       "#sk-container-id-2 a.estimator_doc_link.fitted:hover {\n",
       "  /* fitted */\n",
       "  background-color: var(--sklearn-color-fitted-level-3);\n",
       "}\n",
       "</style><div id=\"sk-container-id-2\" class=\"sk-top-container\"><div class=\"sk-text-repr-fallback\"><pre>LGBMClassifier(class_weight=&#x27;balanced&#x27;, n_jobs=-1, objective=&#x27;binary&#x27;,\n",
       "               random_state=42)</pre><b>In a Jupyter environment, please rerun this cell to show the HTML representation or trust the notebook. <br />On GitHub, the HTML representation is unable to render, please try loading this page with nbviewer.org.</b></div><div class=\"sk-container\" hidden><div class=\"sk-item\"><div class=\"sk-estimator fitted sk-toggleable\"><input class=\"sk-toggleable__control sk-hidden--visually\" id=\"sk-estimator-id-2\" type=\"checkbox\" checked><label for=\"sk-estimator-id-2\" class=\"sk-toggleable__label fitted sk-toggleable__label-arrow\"><div><div>LGBMClassifier</div></div><div><span class=\"sk-estimator-doc-link fitted\">i<span>Fitted</span></span></div></label><div class=\"sk-toggleable__content fitted\"><pre>LGBMClassifier(class_weight=&#x27;balanced&#x27;, n_jobs=-1, objective=&#x27;binary&#x27;,\n",
       "               random_state=42)</pre></div> </div></div></div></div>"
      ]
     },
     "execution_count": 49,
     "metadata": {},
     "output_type": "execute_result"
    }
   ],
   "execution_count": 49
  },
  {
   "metadata": {},
   "cell_type": "markdown",
   "source": "### Evaluación del modelo inicial",
   "id": "11b2c22ba9743a16"
  },
  {
   "metadata": {
    "ExecuteTime": {
     "end_time": "2025-06-01T03:58:05.462621Z",
     "start_time": "2025-06-01T03:58:05.459599Z"
    }
   },
   "cell_type": "code",
   "source": "from sklearn.metrics import roc_auc_score, f1_score, classification_report",
   "id": "56511170d4343849",
   "outputs": [],
   "execution_count": 50
  },
  {
   "metadata": {
    "ExecuteTime": {
     "end_time": "2025-06-01T03:58:12.944237Z",
     "start_time": "2025-06-01T03:58:12.598604Z"
    }
   },
   "cell_type": "code",
   "source": [
    "# Predicciones\n",
    "y_pred = model.predict(X_test_base)\n",
    "y_proba = model.predict_proba(X_test_base)[:, 1]"
   ],
   "id": "b53d8efec7e67650",
   "outputs": [],
   "execution_count": 51
  },
  {
   "metadata": {
    "ExecuteTime": {
     "end_time": "2025-06-01T03:58:14.662574Z",
     "start_time": "2025-06-01T03:58:14.550916Z"
    }
   },
   "cell_type": "code",
   "source": [
    "# Métricas\n",
    "roc = roc_auc_score(y_test, y_proba)\n",
    "f1 = f1_score(y_test, y_pred)"
   ],
   "id": "5c89bafa85657bb9",
   "outputs": [],
   "execution_count": 52
  },
  {
   "metadata": {
    "ExecuteTime": {
     "end_time": "2025-06-01T03:58:16.055178Z",
     "start_time": "2025-06-01T03:58:15.972825Z"
    }
   },
   "cell_type": "code",
   "source": [
    "print(\"AUC-ROC:\", roc)\n",
    "print(\"F1-Score:\", f1)\n",
    "print(classification_report(y_test, y_pred, digits=4))"
   ],
   "id": "d91e2a057656b8b5",
   "outputs": [
    {
     "name": "stdout",
     "output_type": "stream",
     "text": [
      "AUC-ROC: 0.997454382539442\n",
      "F1-Score: 0.4109321620302587\n",
      "              precision    recall  f1-score   support\n",
      "\n",
      "           0     0.9998    0.9897    0.9947    461339\n",
      "           1     0.2617    0.9568    0.4109      1760\n",
      "\n",
      "    accuracy                         0.9896    463099\n",
      "   macro avg     0.6307    0.9733    0.7028    463099\n",
      "weighted avg     0.9970    0.9896    0.9925    463099\n",
      "\n"
     ]
    }
   ],
   "execution_count": 53
  },
  {
   "metadata": {
    "ExecuteTime": {
     "end_time": "2025-06-01T04:41:30.437670Z",
     "start_time": "2025-06-01T04:41:30.306231Z"
    }
   },
   "cell_type": "code",
   "source": [
    "feature_imp = pd.Series(model.feature_importances_, index=X_train_base.columns).sort_values(ascending=False)\n",
    "plt.figure(figsize=(10, 8))\n",
    "sns.barplot(x=feature_imp.head(20), y=feature_imp.head(20).index)\n",
    "plt.title(\"Top 20 Características Más Importantes\")\n",
    "plt.xlabel(\"Importancia\")\n",
    "plt.ylabel(\"Feature\")\n",
    "plt.tight_layout()\n",
    "plt.show()"
   ],
   "id": "1a9cf84edf09fbf3",
   "outputs": [
    {
     "data": {
      "text/plain": [
       "<Figure size 2000x800 with 1 Axes>"
      ],
      "image/png": "[encoded data removed]"
     },
     "metadata": {},
     "output_type": "display_data"
    }
   ],
   "execution_count": 71
  },
  {
   "metadata": {
    "ExecuteTime": {
     "end_time": "2025-06-01T03:59:01.714499Z",
     "start_time": "2025-06-01T03:59:01.705963Z"
    }
   },
   "cell_type": "code",
   "source": [
    "# guardar modelo\n",
    "import joblib\n",
    "import os\n",
    "\n",
    "if not os.path.exists(\"models\"):\n",
    "    os.makedirs(\"models\")\n",
    "\n",
    "if not os.path.exists(\"models/base\"):\n",
    "    os.makedirs(\"models/base\")\n",
    "\n",
    "joblib.dump(model, \"models/base/base_model.pkl\")\n",
    "joblib.dump(label_encoder, \"models/base/label_encoder.pkl\")"
   ],
   "id": "cac516b0d3e0ecaa",
   "outputs": [
    {
     "data": {
      "text/plain": [
       "['models/base/label_encoder.pkl']"
      ]
     },
     "execution_count": 57,
     "metadata": {},
     "output_type": "execute_result"
    }
   ],
   "execution_count": 57
  },
  {
   "metadata": {},
   "cell_type": "markdown",
   "source": "## Modelo con métricas custom",
   "id": "f70c22f065afd0e0"
  },
  {
   "metadata": {
    "ExecuteTime": {
     "end_time": "2025-06-01T03:59:04.959593Z",
     "start_time": "2025-06-01T03:59:04.956001Z"
    }
   },
   "cell_type": "code",
   "source": [
    "from sklearn.metrics import confusion_matrix\n",
    "\n",
    "def fp_penalty_metric(y_true, y_pred_proba):\n",
    "    \"\"\"\n",
    "    Métrica para penalizar los falsos positivos en clasificación binaria.\n",
    "\n",
    "    :param y_true: Valores verdaderos de la variable objetivo.\n",
    "    :param y_pred_proba: Probabilidades predichas de la clase positiva.\n",
    "    :return: Nombre de la métrica, valor de la métrica y si es mayor o menor es mejor.\n",
    "    \"\"\"\n",
    "    # Clasificación binaria con umbral 0.5\n",
    "    y_pred = (y_pred_proba >= 0.5).astype(int)\n",
    "    tn, fp, fn, tp = confusion_matrix(y_true, y_pred).ravel()\n",
    "\n",
    "    if tp == 0:\n",
    "        ratio = np.inf\n",
    "    else:\n",
    "        ratio = (tp + fp) / tp\n",
    "\n",
    "    # LightGBM maximiza la métrica → invertimos\n",
    "    score = 1 / ratio if ratio != np.inf else 0\n",
    "\n",
    "    return \"fp_penalty_ratio\", score, True"
   ],
   "id": "25f1215cfb659a90",
   "outputs": [],
   "execution_count": 58
  },
  {
   "metadata": {
    "ExecuteTime": {
     "end_time": "2025-06-01T03:59:06.638877Z",
     "start_time": "2025-06-01T03:59:06.635922Z"
    }
   },
   "cell_type": "code",
   "source": [
    "def custom_f1(y_true, y_pred_proba):\n",
    "    \"\"\"\n",
    "    Métrica F1 personalizada para clasificación binaria.\n",
    "\n",
    "    :param y_true: Valores verdaderos de la variable objetivo.\n",
    "    :param y_pred_proba: Probabilidades predichas de la clase positiva.\n",
    "    :return: Nombre de la métrica, valor de la métrica y si es mayor o menor es mejor.\n",
    "    \"\"\"\n",
    "    y_pred = (y_pred_proba >= 0.5).astype(int)\n",
    "    tn, fp, fn, tp = confusion_matrix(y_true, y_pred).ravel()\n",
    "\n",
    "    precision = tp / (tp + fp + 1e-6)\n",
    "    recall = tp / (tp + fn + 1e-6)\n",
    "    f1 = 2 * (precision * recall) / (precision + recall + 1e-6)\n",
    "\n",
    "    return \"custom_f1\", f1, True\n"
   ],
   "id": "1595d49e095d501b",
   "outputs": [],
   "execution_count": 59
  },
  {
   "metadata": {
    "ExecuteTime": {
     "end_time": "2025-06-01T03:59:07.869494Z",
     "start_time": "2025-06-01T03:59:07.865115Z"
    }
   },
   "cell_type": "code",
   "source": [
    "def make_recall_high_risk_feval(region_flag, threshold=0.5):\n",
    "    \"\"\"\n",
    "    Función para calcular la métrica de recall en regiones de alto riesgo.\n",
    "\n",
    "    :param region_flag: Array que indica si la transacción es de una región de alto riesgo.\n",
    "    :param threshold:  Umbral para clasificar una transacción como fraude.\n",
    "    :return: Función de evaluación personalizada para LightGBM.\n",
    "    \"\"\"\n",
    "    def recall_high_risk_eval(y_true, y_pred_proba):\n",
    "        \"\"\"\n",
    "        Función de evaluación personalizada para calcular el recall en regiones de alto riesgo.\n",
    "\n",
    "        :param y_true: Valores verdaderos de la variable objetivo.\n",
    "        :param y_pred_proba: Probabilidades predichas de la clase positiva.\n",
    "        :return: Nombre de la métrica, valor de la métrica y si es mayor o menor es mejor.\n",
    "        \"\"\"\n",
    "        y_pred = (y_pred_proba >= threshold).astype(int)\n",
    "\n",
    "        mask = region_flag == 1\n",
    "        y_true_hr = y_true[mask]\n",
    "        y_pred_hr = y_pred[mask]\n",
    "\n",
    "        if y_true_hr.sum() == 0:\n",
    "            recall_hr = 0.0\n",
    "        else:\n",
    "            tp = ((y_pred_hr == 1) & (y_true_hr == 1)).sum()\n",
    "            fn = ((y_pred_hr == 0) & (y_true_hr == 1)).sum()\n",
    "            recall_hr = tp / (tp + fn + 1e-6)\n",
    "\n",
    "        return \"recall_high_risk\", recall_hr, True\n",
    "\n",
    "    return recall_high_risk_eval\n"
   ],
   "id": "c00f1f20b406c162",
   "outputs": [],
   "execution_count": 60
  },
  {
   "metadata": {
    "ExecuteTime": {
     "end_time": "2025-06-01T03:59:10.300213Z",
     "start_time": "2025-06-01T03:59:10.297173Z"
    }
   },
   "cell_type": "code",
   "source": "region_flag = X_test[\"high_risk_region\"].values",
   "id": "42406d63bbbfbc8",
   "outputs": [],
   "execution_count": 61
  },
  {
   "metadata": {
    "ExecuteTime": {
     "end_time": "2025-06-01T03:59:10.802488Z",
     "start_time": "2025-06-01T03:59:10.799272Z"
    }
   },
   "cell_type": "code",
   "source": [
    "model_custom = LGBMClassifier(\n",
    "    objective=\"binary\",\n",
    "    class_weight=\"balanced\",\n",
    "    random_state=42,\n",
    "    n_jobs=-1,\n",
    "    n_estimators=200\n",
    ")"
   ],
   "id": "7119640a94c6ddd7",
   "outputs": [],
   "execution_count": 62
  },
  {
   "metadata": {
    "ExecuteTime": {
     "end_time": "2025-06-01T04:03:35.097130Z",
     "start_time": "2025-06-01T03:59:17.142668Z"
    }
   },
   "cell_type": "code",
   "source": [
    "model_custom.fit(\n",
    "    X_train, y_train,  # Usar X_train completo con las nuevas features\n",
    "    eval_set=[(X_test, y_test)],\n",
    "    eval_metric=[\n",
    "        fp_penalty_metric,\n",
    "        custom_f1,\n",
    "        make_recall_high_risk_feval(region_flag)\n",
    "    ],\n",
    ")\n"
   ],
   "id": "54caed58439a4231",
   "outputs": [
    {
     "name": "stdout",
     "output_type": "stream",
     "text": [
      "[LightGBM] [Info] Number of positive: 7891, number of negative: 1381404\n",
      "[LightGBM] [Info] Auto-choosing row-wise multi-threading, the overhead of testing was 0.041667 seconds.\n",
      "You can set `force_row_wise=true` to remove the overhead.\n",
      "And if memory is not enough, you can set `force_col_wise=true`.\n",
      "[LightGBM] [Info] Total Bins 5385\n",
      "[LightGBM] [Info] Number of data points in the train set: 1389295, number of used features: 38\n",
      "[LightGBM] [Info] [binary:BoostFromScore]: pavg=0.500000 -> initscore=0.000000\n",
      "[LightGBM] [Info] Start training from score 0.000000\n"
     ]
    },
    {
     "data": {
      "text/plain": [
       "LGBMClassifier(class_weight='balanced', n_estimators=200, n_jobs=-1,\n",
       "               objective='binary', random_state=42)"
      ],
      "text/html": [
       "<style>#sk-container-id-3 {\n",
       "  /* Definition of color scheme common for light and dark mode */\n",
       "  --sklearn-color-text: #000;\n",
       "  --sklearn-color-text-muted: #666;\n",
       "  --sklearn-color-line: gray;\n",
       "  /* Definition of color scheme for unfitted estimators */\n",
       "  --sklearn-color-unfitted-level-0: #fff5e6;\n",
       "  --sklearn-color-unfitted-level-1: #f6e4d2;\n",
       "  --sklearn-color-unfitted-level-2: #ffe0b3;\n",
       "  --sklearn-color-unfitted-level-3: chocolate;\n",
       "  /* Definition of color scheme for fitted estimators */\n",
       "  --sklearn-color-fitted-level-0: #f0f8ff;\n",
       "  --sklearn-color-fitted-level-1: #d4ebff;\n",
       "  --sklearn-color-fitted-level-2: #b3dbfd;\n",
       "  --sklearn-color-fitted-level-3: cornflowerblue;\n",
       "\n",
       "  /* Specific color for light theme */\n",
       "  --sklearn-color-text-on-default-background: var(--sg-text-color, var(--theme-code-foreground, var(--jp-content-font-color1, black)));\n",
       "  --sklearn-color-background: var(--sg-background-color, var(--theme-background, var(--jp-layout-color0, white)));\n",
       "  --sklearn-color-border-box: var(--sg-text-color, var(--theme-code-foreground, var(--jp-content-font-color1, black)));\n",
       "  --sklearn-color-icon: #696969;\n",
       "\n",
       "  @media (prefers-color-scheme: dark) {\n",
       "    /* Redefinition of color scheme for dark theme */\n",
       "    --sklearn-color-text-on-default-background: var(--sg-text-color, var(--theme-code-foreground, var(--jp-content-font-color1, white)));\n",
       "    --sklearn-color-background: var(--sg-background-color, var(--theme-background, var(--jp-layout-color0, #111)));\n",
       "    --sklearn-color-border-box: var(--sg-text-color, var(--theme-code-foreground, var(--jp-content-font-color1, white)));\n",
       "    --sklearn-color-icon: #878787;\n",
       "  }\n",
       "}\n",
       "\n",
       "#sk-container-id-3 {\n",
       "  color: var(--sklearn-color-text);\n",
       "}\n",
       "\n",
       "#sk-container-id-3 pre {\n",
       "  padding: 0;\n",
       "}\n",
       "\n",
       "#sk-container-id-3 input.sk-hidden--visually {\n",
       "  border: 0;\n",
       "  clip: rect(1px 1px 1px 1px);\n",
       "  clip: rect(1px, 1px, 1px, 1px);\n",
       "  height: 1px;\n",
       "  margin: -1px;\n",
       "  overflow: hidden;\n",
       "  padding: 0;\n",
       "  position: absolute;\n",
       "  width: 1px;\n",
       "}\n",
       "\n",
       "#sk-container-id-3 div.sk-dashed-wrapped {\n",
       "  border: 1px dashed var(--sklearn-color-line);\n",
       "  margin: 0 0.4em 0.5em 0.4em;\n",
       "  box-sizing: border-box;\n",
       "  padding-bottom: 0.4em;\n",
       "  background-color: var(--sklearn-color-background);\n",
       "}\n",
       "\n",
       "#sk-container-id-3 div.sk-container {\n",
       "  /* jupyter's `normalize.less` sets `[hidden] { display: none; }`\n",
       "     but bootstrap.min.css set `[hidden] { display: none !important; }`\n",
       "     so we also need the `!important` here to be able to override the\n",
       "     default hidden behavior on the sphinx rendered scikit-learn.org.\n",
       "     See: https://github.com/scikit-learn/scikit-learn/issues/21755 */\n",
       "  display: inline-block !important;\n",
       "  position: relative;\n",
       "}\n",
       "\n",
       "#sk-container-id-3 div.sk-text-repr-fallback {\n",
       "  display: none;\n",
       "}\n",
       "\n",
       "div.sk-parallel-item,\n",
       "div.sk-serial,\n",
       "div.sk-item {\n",
       "  /* draw centered vertical line to link estimators */\n",
       "  background-image: linear-gradient(var(--sklearn-color-text-on-default-background), var(--sklearn-color-text-on-default-background));\n",
       "  background-size: 2px 100%;\n",
       "  background-repeat: no-repeat;\n",
       "  background-position: center center;\n",
       "}\n",
       "\n",
       "/* Parallel-specific style estimator block */\n",
       "\n",
       "#sk-container-id-3 div.sk-parallel-item::after {\n",
       "  content: \"\";\n",
       "  width: 100%;\n",
       "  border-bottom: 2px solid var(--sklearn-color-text-on-default-background);\n",
       "  flex-grow: 1;\n",
       "}\n",
       "\n",
       "#sk-container-id-3 div.sk-parallel {\n",
       "  display: flex;\n",
       "  align-items: stretch;\n",
       "  justify-content: center;\n",
       "  background-color: var(--sklearn-color-background);\n",
       "  position: relative;\n",
       "}\n",
       "\n",
       "#sk-container-id-3 div.sk-parallel-item {\n",
       "  display: flex;\n",
       "  flex-direction: column;\n",
       "}\n",
       "\n",
       "#sk-container-id-3 div.sk-parallel-item:first-child::after {\n",
       "  align-self: flex-end;\n",
       "  width: 50%;\n",
       "}\n",
       "\n",
       "#sk-container-id-3 div.sk-parallel-item:last-child::after {\n",
       "  align-self: flex-start;\n",
       "  width: 50%;\n",
       "}\n",
       "\n",
       "#sk-container-id-3 div.sk-parallel-item:only-child::after {\n",
       "  width: 0;\n",
       "}\n",
       "\n",
       "/* Serial-specific style estimator block */\n",
       "\n",
       "#sk-container-id-3 div.sk-serial {\n",
       "  display: flex;\n",
       "  flex-direction: column;\n",
       "  align-items: center;\n",
       "  background-color: var(--sklearn-color-background);\n",
       "  padding-right: 1em;\n",
       "  padding-left: 1em;\n",
       "}\n",
       "\n",
       "\n",
       "/* Toggleable style: style used for estimator/Pipeline/ColumnTransformer box that is\n",
       "clickable and can be expanded/collapsed.\n",
       "- Pipeline and ColumnTransformer use this feature and define the default style\n",
       "- Estimators will overwrite some part of the style using the `sk-estimator` class\n",
       "*/\n",
       "\n",
       "/* Pipeline and ColumnTransformer style (default) */\n",
       "\n",
       "#sk-container-id-3 div.sk-toggleable {\n",
       "  /* Default theme specific background. It is overwritten whether we have a\n",
       "  specific estimator or a Pipeline/ColumnTransformer */\n",
       "  background-color: var(--sklearn-color-background);\n",
       "}\n",
       "\n",
       "/* Toggleable label */\n",
       "#sk-container-id-3 label.sk-toggleable__label {\n",
       "  cursor: pointer;\n",
       "  display: flex;\n",
       "  width: 100%;\n",
       "  margin-bottom: 0;\n",
       "  padding: 0.5em;\n",
       "  box-sizing: border-box;\n",
       "  text-align: center;\n",
       "  align-items: start;\n",
       "  justify-content: space-between;\n",
       "  gap: 0.5em;\n",
       "}\n",
       "\n",
       "#sk-container-id-3 label.sk-toggleable__label .caption {\n",
       "  font-size: 0.6rem;\n",
       "  font-weight: lighter;\n",
       "  color: var(--sklearn-color-text-muted);\n",
       "}\n",
       "\n",
       "#sk-container-id-3 label.sk-toggleable__label-arrow:before {\n",
       "  /* Arrow on the left of the label */\n",
       "  content: \"▸\";\n",
       "  float: left;\n",
       "  margin-right: 0.25em;\n",
       "  color: var(--sklearn-color-icon);\n",
       "}\n",
       "\n",
       "#sk-container-id-3 label.sk-toggleable__label-arrow:hover:before {\n",
       "  color: var(--sklearn-color-text);\n",
       "}\n",
       "\n",
       "/* Toggleable content - dropdown */\n",
       "\n",
       "#sk-container-id-3 div.sk-toggleable__content {\n",
       "  max-height: 0;\n",
       "  max-width: 0;\n",
       "  overflow: hidden;\n",
       "  text-align: left;\n",
       "  /* unfitted */\n",
       "  background-color: var(--sklearn-color-unfitted-level-0);\n",
       "}\n",
       "\n",
       "#sk-container-id-3 div.sk-toggleable__content.fitted {\n",
       "  /* fitted */\n",
       "  background-color: var(--sklearn-color-fitted-level-0);\n",
       "}\n",
       "\n",
       "#sk-container-id-3 div.sk-toggleable__content pre {\n",
       "  margin: 0.2em;\n",
       "  border-radius: 0.25em;\n",
       "  color: var(--sklearn-color-text);\n",
       "  /* unfitted */\n",
       "  background-color: var(--sklearn-color-unfitted-level-0);\n",
       "}\n",
       "\n",
       "#sk-container-id-3 div.sk-toggleable__content.fitted pre {\n",
       "  /* unfitted */\n",
       "  background-color: var(--sklearn-color-fitted-level-0);\n",
       "}\n",
       "\n",
       "#sk-container-id-3 input.sk-toggleable__control:checked~div.sk-toggleable__content {\n",
       "  /* Expand drop-down */\n",
       "  max-height: 200px;\n",
       "  max-width: 100%;\n",
       "  overflow: auto;\n",
       "}\n",
       "\n",
       "#sk-container-id-3 input.sk-toggleable__control:checked~label.sk-toggleable__label-arrow:before {\n",
       "  content: \"▾\";\n",
       "}\n",
       "\n",
       "/* Pipeline/ColumnTransformer-specific style */\n",
       "\n",
       "#sk-container-id-3 div.sk-label input.sk-toggleable__control:checked~label.sk-toggleable__label {\n",
       "  color: var(--sklearn-color-text);\n",
       "  background-color: var(--sklearn-color-unfitted-level-2);\n",
       "}\n",
       "\n",
       "#sk-container-id-3 div.sk-label.fitted input.sk-toggleable__control:checked~label.sk-toggleable__label {\n",
       "  background-color: var(--sklearn-color-fitted-level-2);\n",
       "}\n",
       "\n",
       "/* Estimator-specific style */\n",
       "\n",
       "/* Colorize estimator box */\n",
       "#sk-container-id-3 div.sk-estimator input.sk-toggleable__control:checked~label.sk-toggleable__label {\n",
       "  /* unfitted */\n",
       "  background-color: var(--sklearn-color-unfitted-level-2);\n",
       "}\n",
       "\n",
       "#sk-container-id-3 div.sk-estimator.fitted input.sk-toggleable__control:checked~label.sk-toggleable__label {\n",
       "  /* fitted */\n",
       "  background-color: var(--sklearn-color-fitted-level-2);\n",
       "}\n",
       "\n",
       "#sk-container-id-3 div.sk-label label.sk-toggleable__label,\n",
       "#sk-container-id-3 div.sk-label label {\n",
       "  /* The background is the default theme color */\n",
       "  color: var(--sklearn-color-text-on-default-background);\n",
       "}\n",
       "\n",
       "/* On hover, darken the color of the background */\n",
       "#sk-container-id-3 div.sk-label:hover label.sk-toggleable__label {\n",
       "  color: var(--sklearn-color-text);\n",
       "  background-color: var(--sklearn-color-unfitted-level-2);\n",
       "}\n",
       "\n",
       "/* Label box, darken color on hover, fitted */\n",
       "#sk-container-id-3 div.sk-label.fitted:hover label.sk-toggleable__label.fitted {\n",
       "  color: var(--sklearn-color-text);\n",
       "  background-color: var(--sklearn-color-fitted-level-2);\n",
       "}\n",
       "\n",
       "/* Estimator label */\n",
       "\n",
       "#sk-container-id-3 div.sk-label label {\n",
       "  font-family: monospace;\n",
       "  font-weight: bold;\n",
       "  display: inline-block;\n",
       "  line-height: 1.2em;\n",
       "}\n",
       "\n",
       "#sk-container-id-3 div.sk-label-container {\n",
       "  text-align: center;\n",
       "}\n",
       "\n",
       "/* Estimator-specific */\n",
       "#sk-container-id-3 div.sk-estimator {\n",
       "  font-family: monospace;\n",
       "  border: 1px dotted var(--sklearn-color-border-box);\n",
       "  border-radius: 0.25em;\n",
       "  box-sizing: border-box;\n",
       "  margin-bottom: 0.5em;\n",
       "  /* unfitted */\n",
       "  background-color: var(--sklearn-color-unfitted-level-0);\n",
       "}\n",
       "\n",
       "#sk-container-id-3 div.sk-estimator.fitted {\n",
       "  /* fitted */\n",
       "  background-color: var(--sklearn-color-fitted-level-0);\n",
       "}\n",
       "\n",
       "/* on hover */\n",
       "#sk-container-id-3 div.sk-estimator:hover {\n",
       "  /* unfitted */\n",
       "  background-color: var(--sklearn-color-unfitted-level-2);\n",
       "}\n",
       "\n",
       "#sk-container-id-3 div.sk-estimator.fitted:hover {\n",
       "  /* fitted */\n",
       "  background-color: var(--sklearn-color-fitted-level-2);\n",
       "}\n",
       "\n",
       "/* Specification for estimator info (e.g. \"i\" and \"?\") */\n",
       "\n",
       "/* Common style for \"i\" and \"?\" */\n",
       "\n",
       ".sk-estimator-doc-link,\n",
       "a:link.sk-estimator-doc-link,\n",
       "a:visited.sk-estimator-doc-link {\n",
       "  float: right;\n",
       "  font-size: smaller;\n",
       "  line-height: 1em;\n",
       "  font-family: monospace;\n",
       "  background-color: var(--sklearn-color-background);\n",
       "  border-radius: 1em;\n",
       "  height: 1em;\n",
       "  width: 1em;\n",
       "  text-decoration: none !important;\n",
       "  margin-left: 0.5em;\n",
       "  text-align: center;\n",
       "  /* unfitted */\n",
       "  border: var(--sklearn-color-unfitted-level-1) 1pt solid;\n",
       "  color: var(--sklearn-color-unfitted-level-1);\n",
       "}\n",
       "\n",
       ".sk-estimator-doc-link.fitted,\n",
       "a:link.sk-estimator-doc-link.fitted,\n",
       "a:visited.sk-estimator-doc-link.fitted {\n",
       "  /* fitted */\n",
       "  border: var(--sklearn-color-fitted-level-1) 1pt solid;\n",
       "  color: var(--sklearn-color-fitted-level-1);\n",
       "}\n",
       "\n",
       "/* On hover */\n",
       "div.sk-estimator:hover .sk-estimator-doc-link:hover,\n",
       ".sk-estimator-doc-link:hover,\n",
       "div.sk-label-container:hover .sk-estimator-doc-link:hover,\n",
       ".sk-estimator-doc-link:hover {\n",
       "  /* unfitted */\n",
       "  background-color: var(--sklearn-color-unfitted-level-3);\n",
       "  color: var(--sklearn-color-background);\n",
       "  text-decoration: none;\n",
       "}\n",
       "\n",
       "div.sk-estimator.fitted:hover .sk-estimator-doc-link.fitted:hover,\n",
       ".sk-estimator-doc-link.fitted:hover,\n",
       "div.sk-label-container:hover .sk-estimator-doc-link.fitted:hover,\n",
       ".sk-estimator-doc-link.fitted:hover {\n",
       "  /* fitted */\n",
       "  background-color: var(--sklearn-color-fitted-level-3);\n",
       "  color: var(--sklearn-color-background);\n",
       "  text-decoration: none;\n",
       "}\n",
       "\n",
       "/* Span, style for the box shown on hovering the info icon */\n",
       ".sk-estimator-doc-link span {\n",
       "  display: none;\n",
       "  z-index: 9999;\n",
       "  position: relative;\n",
       "  font-weight: normal;\n",
       "  right: .2ex;\n",
       "  padding: .5ex;\n",
       "  margin: .5ex;\n",
       "  width: min-content;\n",
       "  min-width: 20ex;\n",
       "  max-width: 50ex;\n",
       "  color: var(--sklearn-color-text);\n",
       "  box-shadow: 2pt 2pt 4pt #999;\n",
       "  /* unfitted */\n",
       "  background: var(--sklearn-color-unfitted-level-0);\n",
       "  border: .5pt solid var(--sklearn-color-unfitted-level-3);\n",
       "}\n",
       "\n",
       ".sk-estimator-doc-link.fitted span {\n",
       "  /* fitted */\n",
       "  background: var(--sklearn-color-fitted-level-0);\n",
       "  border: var(--sklearn-color-fitted-level-3);\n",
       "}\n",
       "\n",
       ".sk-estimator-doc-link:hover span {\n",
       "  display: block;\n",
       "}\n",
       "\n",
       "/* \"?\"-specific style due to the `<a>` HTML tag */\n",
       "\n",
       "#sk-container-id-3 a.estimator_doc_link {\n",
       "  float: right;\n",
       "  font-size: 1rem;\n",
       "  line-height: 1em;\n",
       "  font-family: monospace;\n",
       "  background-color: var(--sklearn-color-background);\n",
       "  border-radius: 1rem;\n",
       "  height: 1rem;\n",
       "  width: 1rem;\n",
       "  text-decoration: none;\n",
       "  /* unfitted */\n",
       "  color: var(--sklearn-color-unfitted-level-1);\n",
       "  border: var(--sklearn-color-unfitted-level-1) 1pt solid;\n",
       "}\n",
       "\n",
       "#sk-container-id-3 a.estimator_doc_link.fitted {\n",
       "  /* fitted */\n",
       "  border: var(--sklearn-color-fitted-level-1) 1pt solid;\n",
       "  color: var(--sklearn-color-fitted-level-1);\n",
       "}\n",
       "\n",
       "/* On hover */\n",
       "#sk-container-id-3 a.estimator_doc_link:hover {\n",
       "  /* unfitted */\n",
       "  background-color: var(--sklearn-color-unfitted-level-3);\n",
       "  color: var(--sklearn-color-background);\n",
       "  text-decoration: none;\n",
       "}\n",
       "\n",
       "#sk-container-id-3 a.estimator_doc_link.fitted:hover {\n",
       "  /* fitted */\n",
       "  background-color: var(--sklearn-color-fitted-level-3);\n",
       "}\n",
       "</style><div id=\"sk-container-id-3\" class=\"sk-top-container\"><div class=\"sk-text-repr-fallback\"><pre>LGBMClassifier(class_weight=&#x27;balanced&#x27;, n_estimators=200, n_jobs=-1,\n",
       "               objective=&#x27;binary&#x27;, random_state=42)</pre><b>In a Jupyter environment, please rerun this cell to show the HTML representation or trust the notebook. <br />On GitHub, the HTML representation is unable to render, please try loading this page with nbviewer.org.</b></div><div class=\"sk-container\" hidden><div class=\"sk-item\"><div class=\"sk-estimator fitted sk-toggleable\"><input class=\"sk-toggleable__control sk-hidden--visually\" id=\"sk-estimator-id-3\" type=\"checkbox\" checked><label for=\"sk-estimator-id-3\" class=\"sk-toggleable__label fitted sk-toggleable__label-arrow\"><div><div>LGBMClassifier</div></div><div><span class=\"sk-estimator-doc-link fitted\">i<span>Fitted</span></span></div></label><div class=\"sk-toggleable__content fitted\"><pre>LGBMClassifier(class_weight=&#x27;balanced&#x27;, n_estimators=200, n_jobs=-1,\n",
       "               objective=&#x27;binary&#x27;, random_state=42)</pre></div> </div></div></div></div>"
      ]
     },
     "execution_count": 63,
     "metadata": {},
     "output_type": "execute_result"
    }
   ],
   "execution_count": 63
  },
  {
   "metadata": {},
   "cell_type": "markdown",
   "source": "### Evaluación del modelo con métricas custom",
   "id": "7e999dde20c8752b"
  },
  {
   "metadata": {
    "ExecuteTime": {
     "end_time": "2025-06-01T04:08:05.912203Z",
     "start_time": "2025-06-01T04:08:05.569877Z"
    }
   },
   "cell_type": "code",
   "source": [
    "# Predicciones\n",
    "y_pred = model_custom.predict(X_test)\n",
    "y_proba = model_custom.predict_proba(X_test)[:, 1]"
   ],
   "id": "ba86f12c004c1185",
   "outputs": [],
   "execution_count": 65
  },
  {
   "metadata": {
    "ExecuteTime": {
     "end_time": "2025-06-01T04:08:07.362606Z",
     "start_time": "2025-06-01T04:08:07.234137Z"
    }
   },
   "cell_type": "code",
   "source": [
    "# Métricas\n",
    "roc = roc_auc_score(y_test, y_proba)\n",
    "f1 = f1_score(y_test, y_pred)"
   ],
   "id": "869bcdc7fdf416a9",
   "outputs": [],
   "execution_count": 66
  },
  {
   "metadata": {
    "ExecuteTime": {
     "end_time": "2025-06-01T04:08:08.522547Z",
     "start_time": "2025-06-01T04:08:08.444604Z"
    }
   },
   "cell_type": "code",
   "source": [
    "print(\"AUC-ROC:\", roc)\n",
    "print(\"F1-Score:\", f1)\n",
    "print(classification_report(y_test, y_pred, digits=4))"
   ],
   "id": "d526c17fd7e2dc76",
   "outputs": [
    {
     "name": "stdout",
     "output_type": "stream",
     "text": [
      "AUC-ROC: 0.9994018399800265\n",
      "F1-Score: 0.9380913760475804\n",
      "              precision    recall  f1-score   support\n",
      "\n",
      "           0     0.9999    0.9996    0.9998    461339\n",
      "           1     0.8948    0.9858    0.9381      1760\n",
      "\n",
      "    accuracy                         0.9995    463099\n",
      "   macro avg     0.9474    0.9927    0.9689    463099\n",
      "weighted avg     0.9995    0.9995    0.9995    463099\n",
      "\n"
     ]
    }
   ],
   "execution_count": 67
  },
  {
   "metadata": {
    "ExecuteTime": {
     "end_time": "2025-06-01T04:43:41.974762Z",
     "start_time": "2025-06-01T04:43:41.790814Z"
    }
   },
   "cell_type": "code",
   "source": [
    "feature_imp = pd.Series(model_custom.feature_importances_, index=X_train.columns).sort_values(ascending=False)\n",
    "plt.figure(figsize=(10, 8))\n",
    "sns.barplot(x=feature_imp.head(20), y=feature_imp.head(20).index)\n",
    "plt.title(\"Top 20 Características Más Importantes\")\n",
    "plt.xlabel(\"Importancia\")\n",
    "plt.ylabel(\"Feature\")\n",
    "plt.tight_layout()\n",
    "plt.show()"
   ],
   "id": "a9f0fc8582432d30",
   "outputs": [
    {
     "data": {
      "text/plain": [
       "<Figure size 1000x800 with 1 Axes>"
      ],
      "image/png": "[encoded data removed]"
     },
     "metadata": {},
     "output_type": "display_data"
    }
   ],
   "execution_count": 73
  },
  {
   "metadata": {
    "ExecuteTime": {
     "end_time": "2025-06-01T04:08:20.965778Z",
     "start_time": "2025-06-01T04:08:20.947664Z"
    }
   },
   "cell_type": "code",
   "source": [
    "# Guardar modelo\n",
    "if not os.path.exists(\"models/custom\"):\n",
    "    os.makedirs(\"models/custom\")\n",
    "\n",
    "joblib.dump(model_custom, \"models/custom/custom_model.pkl\")"
   ],
   "id": "4bf1a49be1048f3d",
   "outputs": [
    {
     "data": {
      "text/plain": [
       "['models/custom/custom_model.pkl']"
      ]
     },
     "execution_count": 70,
     "metadata": {},
     "output_type": "execute_result"
    }
   ],
   "execution_count": 70
  }
 ],
 "metadata": {
  "kernelspec": {
   "display_name": "Python 3",
   "language": "python",
   "name": "python3"
  },
  "language_info": {
   "codemirror_mode": {
    "name": "ipython",
    "version": 2
   },
   "file_extension": ".py",
   "mimetype": "text/x-python",
   "name": "python",
   "nbconvert_exporter": "python",
   "pygments_lexer": "ipython2",
   "version": "2.7.6"
  }
 },
 "nbformat": 4,
 "nbformat_minor": 5
}
