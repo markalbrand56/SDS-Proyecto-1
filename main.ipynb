{
 "cells": [
  {
   "metadata": {},
   "cell_type": "markdown",
   "source": [
    "# Trabajo Práctico 1\n",
    "## Métricas custom para reducción de falsos positivos en clasificación binaria fraude\n",
    "\n",
    "**Mark Albrand - 21004**\n",
    "\n",
    "### Función a optimizar\n",
    "\n",
    "*Detectar fraudes en regiones con alta incidencia histórica*\n"
   ],
   "id": "50d54991f3a85448"
  },
  {
   "metadata": {
    "ExecuteTime": {
     "end_time": "2025-05-12T00:01:32.710678Z",
     "start_time": "2025-05-12T00:01:32.708210Z"
    }
   },
   "cell_type": "code",
   "source": [
    "# Variables creadas durante el feature engineering\n",
    "\n",
    "feature_engineering = [\n",
    "    \"fraud_rate_by_zip\",\n",
    "    \"fraud_rate_by_city\",\n",
    "    \"fraud_rate_by_state\",\n",
    "    \"city_fraud_count\",\n",
    "\n",
    "    \"monthly_zip_fraud_rate\",\n",
    "    \"rolling_fraud_rate_by_zip\",\n",
    "\n",
    "    \"region_density\",\n",
    "]"
   ],
   "id": "fc6d08059fc6f864",
   "outputs": [],
   "execution_count": 1
  },
  {
   "cell_type": "code",
   "id": "initial_id",
   "metadata": {
    "collapsed": true,
    "ExecuteTime": {
     "end_time": "2025-05-12T00:01:32.728355Z",
     "start_time": "2025-05-12T00:01:32.725125Z"
    }
   },
   "source": [
    "import numpy as np\n",
    "import pandas as pd\n",
    "import matplotlib.pyplot as plt\n",
    "import seaborn as sns"
   ],
   "outputs": [],
   "execution_count": 2
  },
  {
   "metadata": {
    "ExecuteTime": {
     "end_time": "2025-05-12T00:01:38.456571Z",
     "start_time": "2025-05-12T00:01:32.746145Z"
    }
   },
   "cell_type": "code",
   "source": [
    "# dataset con las nuevas features\n",
    "dataset = pd.read_csv(\"data/dataset.csv\", index_col=0)"
   ],
   "id": "1972cebcc1492fab",
   "outputs": [],
   "execution_count": 3
  },
  {
   "metadata": {
    "ExecuteTime": {
     "end_time": "2025-05-12T00:01:38.713781Z",
     "start_time": "2025-05-12T00:01:38.710107Z"
    }
   },
   "cell_type": "code",
   "source": [
    "for c in dataset.columns:\n",
    "    print(c)"
   ],
   "id": "a80394546d72d3c5",
   "outputs": [
    {
     "name": "stdout",
     "output_type": "stream",
     "text": [
      "cc_num\n",
      "merchant\n",
      "category\n",
      "amt\n",
      "first\n",
      "last\n",
      "gender\n",
      "street\n",
      "city\n",
      "state\n",
      "zip\n",
      "lat\n",
      "long\n",
      "city_pop\n",
      "job\n",
      "dob\n",
      "trans_num\n",
      "unix_time\n",
      "merch_lat\n",
      "merch_long\n",
      "is_fraud\n",
      "amt_month\n",
      "amt_year\n",
      "amt_month_shopping_net_spend\n",
      "count_month_shopping_net\n",
      "first_time_at_merchant\n",
      "dist_between_client_and_merch\n",
      "trans_month\n",
      "trans_day\n",
      "hour\n",
      "year\n",
      "times_shopped_at_merchant\n",
      "times_shopped_at_merchant_year\n",
      "times_shopped_at_merchant_month\n",
      "times_shopped_at_merchant_day\n",
      "fraud_rate_by_zip\n",
      "fraud_rate_by_city\n",
      "fraud_rate_by_state\n",
      "city_fraud_count\n",
      "monthly_zip_fraud_rate\n",
      "rolling_fraud_rate_by_zip\n",
      "lat_bin\n",
      "long_bin\n",
      "region_density\n"
     ]
    }
   ],
   "execution_count": 4
  },
  {
   "metadata": {},
   "cell_type": "markdown",
   "source": "## Modelo Base",
   "id": "9ce5d56630fa01e2"
  },
  {
   "metadata": {
    "ExecuteTime": {
     "end_time": "2025-05-12T00:01:38.978629Z",
     "start_time": "2025-05-12T00:01:38.783438Z"
    }
   },
   "cell_type": "code",
   "source": "from sklearn.model_selection import train_test_split",
   "id": "89087dd0c7ab61ad",
   "outputs": [],
   "execution_count": 5
  },
  {
   "metadata": {
    "ExecuteTime": {
     "end_time": "2025-05-12T00:01:38.994159Z",
     "start_time": "2025-05-12T00:01:38.991156Z"
    }
   },
   "cell_type": "code",
   "source": [
    "drop_cols = [\n",
    "    'cc_num',\n",
    "    'first',\n",
    "    'last',\n",
    "    'street',\n",
    "    'trans_num',\n",
    "    'dob',\n",
    "    'unix_time'\n",
    "]"
   ],
   "id": "7a602f8b6b79b2dc",
   "outputs": [],
   "execution_count": 6
  },
  {
   "metadata": {
    "ExecuteTime": {
     "end_time": "2025-05-12T00:01:39.194521Z",
     "start_time": "2025-05-12T00:01:39.005148Z"
    }
   },
   "cell_type": "code",
   "source": "dataset = dataset.drop(columns=drop_cols, errors='ignore')",
   "id": "7d4e9e5df37f54eb",
   "outputs": [],
   "execution_count": 7
  },
  {
   "metadata": {
    "ExecuteTime": {
     "end_time": "2025-05-12T00:01:39.209187Z",
     "start_time": "2025-05-12T00:01:39.205610Z"
    }
   },
   "cell_type": "code",
   "source": "from sklearn.preprocessing import LabelEncoder",
   "id": "7c9114dc93baebff",
   "outputs": [],
   "execution_count": 8
  },
  {
   "metadata": {
    "ExecuteTime": {
     "end_time": "2025-05-12T00:01:39.223217Z",
     "start_time": "2025-05-12T00:01:39.220888Z"
    }
   },
   "cell_type": "code",
   "source": [
    "# usar LabelEncoder para convertir las variables categóricas a numéricas\n",
    "label_encoder = LabelEncoder()"
   ],
   "id": "9b6c57dbc0e3ce0a",
   "outputs": [],
   "execution_count": 9
  },
  {
   "metadata": {
    "ExecuteTime": {
     "end_time": "2025-05-12T00:01:40.590331Z",
     "start_time": "2025-05-12T00:01:39.237838Z"
    }
   },
   "cell_type": "code",
   "source": [
    "categorical_cols = dataset.select_dtypes(include=['object']).columns\n",
    "\n",
    "for col in categorical_cols:\n",
    "    dataset[col] = label_encoder.fit_transform(dataset[col])"
   ],
   "id": "2b87d4d439414085",
   "outputs": [],
   "execution_count": 10
  },
  {
   "metadata": {
    "ExecuteTime": {
     "end_time": "2025-05-12T00:01:40.607747Z",
     "start_time": "2025-05-12T00:01:40.601246Z"
    }
   },
   "cell_type": "code",
   "source": "dataset[\"first_time_at_merchant\"] = dataset[\"first_time_at_merchant\"].astype(int)  # Booleano -> int",
   "id": "e1e0c8d866c248dd",
   "outputs": [],
   "execution_count": 11
  },
  {
   "metadata": {
    "ExecuteTime": {
     "end_time": "2025-05-12T00:01:40.701293Z",
     "start_time": "2025-05-12T00:01:40.619014Z"
    }
   },
   "cell_type": "code",
   "source": [
    "X = dataset.drop(columns=[\"is_fraud\"])\n",
    "y = dataset[\"is_fraud\"]"
   ],
   "id": "f1ded4d6a614c78c",
   "outputs": [],
   "execution_count": 12
  },
  {
   "metadata": {
    "ExecuteTime": {
     "end_time": "2025-05-12T00:01:40.729124Z",
     "start_time": "2025-05-12T00:01:40.716099Z"
    }
   },
   "cell_type": "code",
   "source": "X.head()",
   "id": "9ad27046954d7fe3",
   "outputs": [
    {
     "data": {
      "text/plain": [
       "      merchant  category    amt  gender  city  state   zip      lat     long  \\\n",
       "1514       398         7  48.43       0   753     19  1257  42.1001 -73.3611   \n",
       "2491       351         8   1.58       0   753     19  1257  42.1001 -73.3611   \n",
       "4762       174        11   6.10       0   753     19  1257  42.1001 -73.3611   \n",
       "6043       492         6   8.42       0   753     19  1257  42.1001 -73.3611   \n",
       "6499       273         2  31.53       0   753     19  1257  42.1001 -73.3611   \n",
       "\n",
       "      city_pop  ...  times_shopped_at_merchant_day  fraud_rate_by_zip  \\\n",
       "1514      2121  ...                              2           0.003079   \n",
       "2491      2121  ...                              1           0.003079   \n",
       "4762      2121  ...                              1           0.003079   \n",
       "6043      2121  ...                              1           0.003079   \n",
       "6499      2121  ...                              3           0.003079   \n",
       "\n",
       "      fraud_rate_by_city  fraud_rate_by_state  city_fraud_count  \\\n",
       "1514            0.003079             0.004954                 9   \n",
       "2491            0.003079             0.004954                 9   \n",
       "4762            0.003079             0.004954                 9   \n",
       "6043            0.003079             0.004954                 9   \n",
       "6499            0.003079             0.004954                 9   \n",
       "\n",
       "      monthly_zip_fraud_rate  rolling_fraud_rate_by_zip  lat_bin  long_bin  \\\n",
       "1514                     0.0                        0.0       19        19   \n",
       "2491                     0.0                        0.0       19        19   \n",
       "4762                     0.0                        0.0       19        19   \n",
       "6043                     0.0                        0.0       19        19   \n",
       "6499                     0.0                        0.0       19        19   \n",
       "\n",
       "      region_density  \n",
       "1514           18308  \n",
       "2491           18308  \n",
       "4762           18308  \n",
       "6043           18308  \n",
       "6499           18308  \n",
       "\n",
       "[5 rows x 36 columns]"
      ],
      "text/html": [
       "<div>\n",
       "<style scoped>\n",
       "    .dataframe tbody tr th:only-of-type {\n",
       "        vertical-align: middle;\n",
       "    }\n",
       "\n",
       "    .dataframe tbody tr th {\n",
       "        vertical-align: top;\n",
       "    }\n",
       "\n",
       "    .dataframe thead th {\n",
       "        text-align: right;\n",
       "    }\n",
       "</style>\n",
       "<table border=\"1\" class=\"dataframe\">\n",
       "  <thead>\n",
       "    <tr style=\"text-align: right;\">\n",
       "      <th></th>\n",
       "      <th>merchant</th>\n",
       "      <th>category</th>\n",
       "      <th>amt</th>\n",
       "      <th>gender</th>\n",
       "      <th>city</th>\n",
       "      <th>state</th>\n",
       "      <th>zip</th>\n",
       "      <th>lat</th>\n",
       "      <th>long</th>\n",
       "      <th>city_pop</th>\n",
       "      <th>...</th>\n",
       "      <th>times_shopped_at_merchant_day</th>\n",
       "      <th>fraud_rate_by_zip</th>\n",
       "      <th>fraud_rate_by_city</th>\n",
       "      <th>fraud_rate_by_state</th>\n",
       "      <th>city_fraud_count</th>\n",
       "      <th>monthly_zip_fraud_rate</th>\n",
       "      <th>rolling_fraud_rate_by_zip</th>\n",
       "      <th>lat_bin</th>\n",
       "      <th>long_bin</th>\n",
       "      <th>region_density</th>\n",
       "    </tr>\n",
       "  </thead>\n",
       "  <tbody>\n",
       "    <tr>\n",
       "      <th>1514</th>\n",
       "      <td>398</td>\n",
       "      <td>7</td>\n",
       "      <td>48.43</td>\n",
       "      <td>0</td>\n",
       "      <td>753</td>\n",
       "      <td>19</td>\n",
       "      <td>1257</td>\n",
       "      <td>42.1001</td>\n",
       "      <td>-73.3611</td>\n",
       "      <td>2121</td>\n",
       "      <td>...</td>\n",
       "      <td>2</td>\n",
       "      <td>0.003079</td>\n",
       "      <td>0.003079</td>\n",
       "      <td>0.004954</td>\n",
       "      <td>9</td>\n",
       "      <td>0.0</td>\n",
       "      <td>0.0</td>\n",
       "      <td>19</td>\n",
       "      <td>19</td>\n",
       "      <td>18308</td>\n",
       "    </tr>\n",
       "    <tr>\n",
       "      <th>2491</th>\n",
       "      <td>351</td>\n",
       "      <td>8</td>\n",
       "      <td>1.58</td>\n",
       "      <td>0</td>\n",
       "      <td>753</td>\n",
       "      <td>19</td>\n",
       "      <td>1257</td>\n",
       "      <td>42.1001</td>\n",
       "      <td>-73.3611</td>\n",
       "      <td>2121</td>\n",
       "      <td>...</td>\n",
       "      <td>1</td>\n",
       "      <td>0.003079</td>\n",
       "      <td>0.003079</td>\n",
       "      <td>0.004954</td>\n",
       "      <td>9</td>\n",
       "      <td>0.0</td>\n",
       "      <td>0.0</td>\n",
       "      <td>19</td>\n",
       "      <td>19</td>\n",
       "      <td>18308</td>\n",
       "    </tr>\n",
       "    <tr>\n",
       "      <th>4762</th>\n",
       "      <td>174</td>\n",
       "      <td>11</td>\n",
       "      <td>6.10</td>\n",
       "      <td>0</td>\n",
       "      <td>753</td>\n",
       "      <td>19</td>\n",
       "      <td>1257</td>\n",
       "      <td>42.1001</td>\n",
       "      <td>-73.3611</td>\n",
       "      <td>2121</td>\n",
       "      <td>...</td>\n",
       "      <td>1</td>\n",
       "      <td>0.003079</td>\n",
       "      <td>0.003079</td>\n",
       "      <td>0.004954</td>\n",
       "      <td>9</td>\n",
       "      <td>0.0</td>\n",
       "      <td>0.0</td>\n",
       "      <td>19</td>\n",
       "      <td>19</td>\n",
       "      <td>18308</td>\n",
       "    </tr>\n",
       "    <tr>\n",
       "      <th>6043</th>\n",
       "      <td>492</td>\n",
       "      <td>6</td>\n",
       "      <td>8.42</td>\n",
       "      <td>0</td>\n",
       "      <td>753</td>\n",
       "      <td>19</td>\n",
       "      <td>1257</td>\n",
       "      <td>42.1001</td>\n",
       "      <td>-73.3611</td>\n",
       "      <td>2121</td>\n",
       "      <td>...</td>\n",
       "      <td>1</td>\n",
       "      <td>0.003079</td>\n",
       "      <td>0.003079</td>\n",
       "      <td>0.004954</td>\n",
       "      <td>9</td>\n",
       "      <td>0.0</td>\n",
       "      <td>0.0</td>\n",
       "      <td>19</td>\n",
       "      <td>19</td>\n",
       "      <td>18308</td>\n",
       "    </tr>\n",
       "    <tr>\n",
       "      <th>6499</th>\n",
       "      <td>273</td>\n",
       "      <td>2</td>\n",
       "      <td>31.53</td>\n",
       "      <td>0</td>\n",
       "      <td>753</td>\n",
       "      <td>19</td>\n",
       "      <td>1257</td>\n",
       "      <td>42.1001</td>\n",
       "      <td>-73.3611</td>\n",
       "      <td>2121</td>\n",
       "      <td>...</td>\n",
       "      <td>3</td>\n",
       "      <td>0.003079</td>\n",
       "      <td>0.003079</td>\n",
       "      <td>0.004954</td>\n",
       "      <td>9</td>\n",
       "      <td>0.0</td>\n",
       "      <td>0.0</td>\n",
       "      <td>19</td>\n",
       "      <td>19</td>\n",
       "      <td>18308</td>\n",
       "    </tr>\n",
       "  </tbody>\n",
       "</table>\n",
       "<p>5 rows × 36 columns</p>\n",
       "</div>"
      ]
     },
     "execution_count": 13,
     "metadata": {},
     "output_type": "execute_result"
    }
   ],
   "execution_count": 13
  },
  {
   "metadata": {
    "ExecuteTime": {
     "end_time": "2025-05-12T00:01:40.759798Z",
     "start_time": "2025-05-12T00:01:40.755158Z"
    }
   },
   "cell_type": "code",
   "source": "y.head()",
   "id": "5143b90bcb9cd34e",
   "outputs": [
    {
     "data": {
      "text/plain": [
       "1514    0\n",
       "2491    0\n",
       "4762    0\n",
       "6043    0\n",
       "6499    0\n",
       "Name: is_fraud, dtype: int64"
      ]
     },
     "execution_count": 14,
     "metadata": {},
     "output_type": "execute_result"
    }
   ],
   "execution_count": 14
  },
  {
   "metadata": {
    "ExecuteTime": {
     "end_time": "2025-05-12T00:01:41.817264Z",
     "start_time": "2025-05-12T00:01:40.816013Z"
    }
   },
   "cell_type": "code",
   "source": [
    "X_train, X_test, y_train, y_test = train_test_split(\n",
    "    X, y, test_size=0.25, stratify=y, random_state=42\n",
    ")"
   ],
   "id": "3254565172afb99b",
   "outputs": [],
   "execution_count": 15
  },
  {
   "metadata": {
    "ExecuteTime": {
     "end_time": "2025-05-12T00:01:42.026617Z",
     "start_time": "2025-05-12T00:01:41.957485Z"
    }
   },
   "cell_type": "code",
   "source": "from lightgbm import LGBMClassifier",
   "id": "a15c7d13c25b6148",
   "outputs": [],
   "execution_count": 16
  },
  {
   "metadata": {
    "ExecuteTime": {
     "end_time": "2025-05-12T00:01:42.108305Z",
     "start_time": "2025-05-12T00:01:42.105200Z"
    }
   },
   "cell_type": "code",
   "source": [
    "model = LGBMClassifier(\n",
    "    objective=\"binary\",\n",
    "    class_weight=\"balanced\",\n",
    "    random_state=42,\n",
    "    n_jobs=-1\n",
    ")"
   ],
   "id": "bdddc524ccc2e729",
   "outputs": [],
   "execution_count": 17
  },
  {
   "metadata": {
    "ExecuteTime": {
     "end_time": "2025-05-12T00:01:44.651639Z",
     "start_time": "2025-05-12T00:01:42.144409Z"
    }
   },
   "cell_type": "code",
   "source": "model.fit(X_train, y_train)",
   "id": "2a89577d5b9d1306",
   "outputs": [
    {
     "name": "stdout",
     "output_type": "stream",
     "text": [
      "[LightGBM] [Info] Number of positive: 7238, number of negative: 1382057\n",
      "[LightGBM] [Info] Auto-choosing col-wise multi-threading, the overhead of testing was 0.077099 seconds.\n",
      "You can set `force_col_wise=true` to remove the overhead.\n",
      "[LightGBM] [Info] Total Bins 5130\n",
      "[LightGBM] [Info] Number of data points in the train set: 1389295, number of used features: 36\n",
      "[LightGBM] [Info] [binary:BoostFromScore]: pavg=0.500000 -> initscore=0.000000\n",
      "[LightGBM] [Info] Start training from score 0.000000\n"
     ]
    },
    {
     "data": {
      "text/plain": [
       "LGBMClassifier(class_weight='balanced', n_jobs=-1, objective='binary',\n",
       "               random_state=42)"
      ],
      "text/html": [
       "<style>#sk-container-id-1 {\n",
       "  /* Definition of color scheme common for light and dark mode */\n",
       "  --sklearn-color-text: #000;\n",
       "  --sklearn-color-text-muted: #666;\n",
       "  --sklearn-color-line: gray;\n",
       "  /* Definition of color scheme for unfitted estimators */\n",
       "  --sklearn-color-unfitted-level-0: #fff5e6;\n",
       "  --sklearn-color-unfitted-level-1: #f6e4d2;\n",
       "  --sklearn-color-unfitted-level-2: #ffe0b3;\n",
       "  --sklearn-color-unfitted-level-3: chocolate;\n",
       "  /* Definition of color scheme for fitted estimators */\n",
       "  --sklearn-color-fitted-level-0: #f0f8ff;\n",
       "  --sklearn-color-fitted-level-1: #d4ebff;\n",
       "  --sklearn-color-fitted-level-2: #b3dbfd;\n",
       "  --sklearn-color-fitted-level-3: cornflowerblue;\n",
       "\n",
       "  /* Specific color for light theme */\n",
       "  --sklearn-color-text-on-default-background: var(--sg-text-color, var(--theme-code-foreground, var(--jp-content-font-color1, black)));\n",
       "  --sklearn-color-background: var(--sg-background-color, var(--theme-background, var(--jp-layout-color0, white)));\n",
       "  --sklearn-color-border-box: var(--sg-text-color, var(--theme-code-foreground, var(--jp-content-font-color1, black)));\n",
       "  --sklearn-color-icon: #696969;\n",
       "\n",
       "  @media (prefers-color-scheme: dark) {\n",
       "    /* Redefinition of color scheme for dark theme */\n",
       "    --sklearn-color-text-on-default-background: var(--sg-text-color, var(--theme-code-foreground, var(--jp-content-font-color1, white)));\n",
       "    --sklearn-color-background: var(--sg-background-color, var(--theme-background, var(--jp-layout-color0, #111)));\n",
       "    --sklearn-color-border-box: var(--sg-text-color, var(--theme-code-foreground, var(--jp-content-font-color1, white)));\n",
       "    --sklearn-color-icon: #878787;\n",
       "  }\n",
       "}\n",
       "\n",
       "#sk-container-id-1 {\n",
       "  color: var(--sklearn-color-text);\n",
       "}\n",
       "\n",
       "#sk-container-id-1 pre {\n",
       "  padding: 0;\n",
       "}\n",
       "\n",
       "#sk-container-id-1 input.sk-hidden--visually {\n",
       "  border: 0;\n",
       "  clip: rect(1px 1px 1px 1px);\n",
       "  clip: rect(1px, 1px, 1px, 1px);\n",
       "  height: 1px;\n",
       "  margin: -1px;\n",
       "  overflow: hidden;\n",
       "  padding: 0;\n",
       "  position: absolute;\n",
       "  width: 1px;\n",
       "}\n",
       "\n",
       "#sk-container-id-1 div.sk-dashed-wrapped {\n",
       "  border: 1px dashed var(--sklearn-color-line);\n",
       "  margin: 0 0.4em 0.5em 0.4em;\n",
       "  box-sizing: border-box;\n",
       "  padding-bottom: 0.4em;\n",
       "  background-color: var(--sklearn-color-background);\n",
       "}\n",
       "\n",
       "#sk-container-id-1 div.sk-container {\n",
       "  /* jupyter's `normalize.less` sets `[hidden] { display: none; }`\n",
       "     but bootstrap.min.css set `[hidden] { display: none !important; }`\n",
       "     so we also need the `!important` here to be able to override the\n",
       "     default hidden behavior on the sphinx rendered scikit-learn.org.\n",
       "     See: https://github.com/scikit-learn/scikit-learn/issues/21755 */\n",
       "  display: inline-block !important;\n",
       "  position: relative;\n",
       "}\n",
       "\n",
       "#sk-container-id-1 div.sk-text-repr-fallback {\n",
       "  display: none;\n",
       "}\n",
       "\n",
       "div.sk-parallel-item,\n",
       "div.sk-serial,\n",
       "div.sk-item {\n",
       "  /* draw centered vertical line to link estimators */\n",
       "  background-image: linear-gradient(var(--sklearn-color-text-on-default-background), var(--sklearn-color-text-on-default-background));\n",
       "  background-size: 2px 100%;\n",
       "  background-repeat: no-repeat;\n",
       "  background-position: center center;\n",
       "}\n",
       "\n",
       "/* Parallel-specific style estimator block */\n",
       "\n",
       "#sk-container-id-1 div.sk-parallel-item::after {\n",
       "  content: \"\";\n",
       "  width: 100%;\n",
       "  border-bottom: 2px solid var(--sklearn-color-text-on-default-background);\n",
       "  flex-grow: 1;\n",
       "}\n",
       "\n",
       "#sk-container-id-1 div.sk-parallel {\n",
       "  display: flex;\n",
       "  align-items: stretch;\n",
       "  justify-content: center;\n",
       "  background-color: var(--sklearn-color-background);\n",
       "  position: relative;\n",
       "}\n",
       "\n",
       "#sk-container-id-1 div.sk-parallel-item {\n",
       "  display: flex;\n",
       "  flex-direction: column;\n",
       "}\n",
       "\n",
       "#sk-container-id-1 div.sk-parallel-item:first-child::after {\n",
       "  align-self: flex-end;\n",
       "  width: 50%;\n",
       "}\n",
       "\n",
       "#sk-container-id-1 div.sk-parallel-item:last-child::after {\n",
       "  align-self: flex-start;\n",
       "  width: 50%;\n",
       "}\n",
       "\n",
       "#sk-container-id-1 div.sk-parallel-item:only-child::after {\n",
       "  width: 0;\n",
       "}\n",
       "\n",
       "/* Serial-specific style estimator block */\n",
       "\n",
       "#sk-container-id-1 div.sk-serial {\n",
       "  display: flex;\n",
       "  flex-direction: column;\n",
       "  align-items: center;\n",
       "  background-color: var(--sklearn-color-background);\n",
       "  padding-right: 1em;\n",
       "  padding-left: 1em;\n",
       "}\n",
       "\n",
       "\n",
       "/* Toggleable style: style used for estimator/Pipeline/ColumnTransformer box that is\n",
       "clickable and can be expanded/collapsed.\n",
       "- Pipeline and ColumnTransformer use this feature and define the default style\n",
       "- Estimators will overwrite some part of the style using the `sk-estimator` class\n",
       "*/\n",
       "\n",
       "/* Pipeline and ColumnTransformer style (default) */\n",
       "\n",
       "#sk-container-id-1 div.sk-toggleable {\n",
       "  /* Default theme specific background. It is overwritten whether we have a\n",
       "  specific estimator or a Pipeline/ColumnTransformer */\n",
       "  background-color: var(--sklearn-color-background);\n",
       "}\n",
       "\n",
       "/* Toggleable label */\n",
       "#sk-container-id-1 label.sk-toggleable__label {\n",
       "  cursor: pointer;\n",
       "  display: flex;\n",
       "  width: 100%;\n",
       "  margin-bottom: 0;\n",
       "  padding: 0.5em;\n",
       "  box-sizing: border-box;\n",
       "  text-align: center;\n",
       "  align-items: start;\n",
       "  justify-content: space-between;\n",
       "  gap: 0.5em;\n",
       "}\n",
       "\n",
       "#sk-container-id-1 label.sk-toggleable__label .caption {\n",
       "  font-size: 0.6rem;\n",
       "  font-weight: lighter;\n",
       "  color: var(--sklearn-color-text-muted);\n",
       "}\n",
       "\n",
       "#sk-container-id-1 label.sk-toggleable__label-arrow:before {\n",
       "  /* Arrow on the left of the label */\n",
       "  content: \"▸\";\n",
       "  float: left;\n",
       "  margin-right: 0.25em;\n",
       "  color: var(--sklearn-color-icon);\n",
       "}\n",
       "\n",
       "#sk-container-id-1 label.sk-toggleable__label-arrow:hover:before {\n",
       "  color: var(--sklearn-color-text);\n",
       "}\n",
       "\n",
       "/* Toggleable content - dropdown */\n",
       "\n",
       "#sk-container-id-1 div.sk-toggleable__content {\n",
       "  max-height: 0;\n",
       "  max-width: 0;\n",
       "  overflow: hidden;\n",
       "  text-align: left;\n",
       "  /* unfitted */\n",
       "  background-color: var(--sklearn-color-unfitted-level-0);\n",
       "}\n",
       "\n",
       "#sk-container-id-1 div.sk-toggleable__content.fitted {\n",
       "  /* fitted */\n",
       "  background-color: var(--sklearn-color-fitted-level-0);\n",
       "}\n",
       "\n",
       "#sk-container-id-1 div.sk-toggleable__content pre {\n",
       "  margin: 0.2em;\n",
       "  border-radius: 0.25em;\n",
       "  color: var(--sklearn-color-text);\n",
       "  /* unfitted */\n",
       "  background-color: var(--sklearn-color-unfitted-level-0);\n",
       "}\n",
       "\n",
       "#sk-container-id-1 div.sk-toggleable__content.fitted pre {\n",
       "  /* unfitted */\n",
       "  background-color: var(--sklearn-color-fitted-level-0);\n",
       "}\n",
       "\n",
       "#sk-container-id-1 input.sk-toggleable__control:checked~div.sk-toggleable__content {\n",
       "  /* Expand drop-down */\n",
       "  max-height: 200px;\n",
       "  max-width: 100%;\n",
       "  overflow: auto;\n",
       "}\n",
       "\n",
       "#sk-container-id-1 input.sk-toggleable__control:checked~label.sk-toggleable__label-arrow:before {\n",
       "  content: \"▾\";\n",
       "}\n",
       "\n",
       "/* Pipeline/ColumnTransformer-specific style */\n",
       "\n",
       "#sk-container-id-1 div.sk-label input.sk-toggleable__control:checked~label.sk-toggleable__label {\n",
       "  color: var(--sklearn-color-text);\n",
       "  background-color: var(--sklearn-color-unfitted-level-2);\n",
       "}\n",
       "\n",
       "#sk-container-id-1 div.sk-label.fitted input.sk-toggleable__control:checked~label.sk-toggleable__label {\n",
       "  background-color: var(--sklearn-color-fitted-level-2);\n",
       "}\n",
       "\n",
       "/* Estimator-specific style */\n",
       "\n",
       "/* Colorize estimator box */\n",
       "#sk-container-id-1 div.sk-estimator input.sk-toggleable__control:checked~label.sk-toggleable__label {\n",
       "  /* unfitted */\n",
       "  background-color: var(--sklearn-color-unfitted-level-2);\n",
       "}\n",
       "\n",
       "#sk-container-id-1 div.sk-estimator.fitted input.sk-toggleable__control:checked~label.sk-toggleable__label {\n",
       "  /* fitted */\n",
       "  background-color: var(--sklearn-color-fitted-level-2);\n",
       "}\n",
       "\n",
       "#sk-container-id-1 div.sk-label label.sk-toggleable__label,\n",
       "#sk-container-id-1 div.sk-label label {\n",
       "  /* The background is the default theme color */\n",
       "  color: var(--sklearn-color-text-on-default-background);\n",
       "}\n",
       "\n",
       "/* On hover, darken the color of the background */\n",
       "#sk-container-id-1 div.sk-label:hover label.sk-toggleable__label {\n",
       "  color: var(--sklearn-color-text);\n",
       "  background-color: var(--sklearn-color-unfitted-level-2);\n",
       "}\n",
       "\n",
       "/* Label box, darken color on hover, fitted */\n",
       "#sk-container-id-1 div.sk-label.fitted:hover label.sk-toggleable__label.fitted {\n",
       "  color: var(--sklearn-color-text);\n",
       "  background-color: var(--sklearn-color-fitted-level-2);\n",
       "}\n",
       "\n",
       "/* Estimator label */\n",
       "\n",
       "#sk-container-id-1 div.sk-label label {\n",
       "  font-family: monospace;\n",
       "  font-weight: bold;\n",
       "  display: inline-block;\n",
       "  line-height: 1.2em;\n",
       "}\n",
       "\n",
       "#sk-container-id-1 div.sk-label-container {\n",
       "  text-align: center;\n",
       "}\n",
       "\n",
       "/* Estimator-specific */\n",
       "#sk-container-id-1 div.sk-estimator {\n",
       "  font-family: monospace;\n",
       "  border: 1px dotted var(--sklearn-color-border-box);\n",
       "  border-radius: 0.25em;\n",
       "  box-sizing: border-box;\n",
       "  margin-bottom: 0.5em;\n",
       "  /* unfitted */\n",
       "  background-color: var(--sklearn-color-unfitted-level-0);\n",
       "}\n",
       "\n",
       "#sk-container-id-1 div.sk-estimator.fitted {\n",
       "  /* fitted */\n",
       "  background-color: var(--sklearn-color-fitted-level-0);\n",
       "}\n",
       "\n",
       "/* on hover */\n",
       "#sk-container-id-1 div.sk-estimator:hover {\n",
       "  /* unfitted */\n",
       "  background-color: var(--sklearn-color-unfitted-level-2);\n",
       "}\n",
       "\n",
       "#sk-container-id-1 div.sk-estimator.fitted:hover {\n",
       "  /* fitted */\n",
       "  background-color: var(--sklearn-color-fitted-level-2);\n",
       "}\n",
       "\n",
       "/* Specification for estimator info (e.g. \"i\" and \"?\") */\n",
       "\n",
       "/* Common style for \"i\" and \"?\" */\n",
       "\n",
       ".sk-estimator-doc-link,\n",
       "a:link.sk-estimator-doc-link,\n",
       "a:visited.sk-estimator-doc-link {\n",
       "  float: right;\n",
       "  font-size: smaller;\n",
       "  line-height: 1em;\n",
       "  font-family: monospace;\n",
       "  background-color: var(--sklearn-color-background);\n",
       "  border-radius: 1em;\n",
       "  height: 1em;\n",
       "  width: 1em;\n",
       "  text-decoration: none !important;\n",
       "  margin-left: 0.5em;\n",
       "  text-align: center;\n",
       "  /* unfitted */\n",
       "  border: var(--sklearn-color-unfitted-level-1) 1pt solid;\n",
       "  color: var(--sklearn-color-unfitted-level-1);\n",
       "}\n",
       "\n",
       ".sk-estimator-doc-link.fitted,\n",
       "a:link.sk-estimator-doc-link.fitted,\n",
       "a:visited.sk-estimator-doc-link.fitted {\n",
       "  /* fitted */\n",
       "  border: var(--sklearn-color-fitted-level-1) 1pt solid;\n",
       "  color: var(--sklearn-color-fitted-level-1);\n",
       "}\n",
       "\n",
       "/* On hover */\n",
       "div.sk-estimator:hover .sk-estimator-doc-link:hover,\n",
       ".sk-estimator-doc-link:hover,\n",
       "div.sk-label-container:hover .sk-estimator-doc-link:hover,\n",
       ".sk-estimator-doc-link:hover {\n",
       "  /* unfitted */\n",
       "  background-color: var(--sklearn-color-unfitted-level-3);\n",
       "  color: var(--sklearn-color-background);\n",
       "  text-decoration: none;\n",
       "}\n",
       "\n",
       "div.sk-estimator.fitted:hover .sk-estimator-doc-link.fitted:hover,\n",
       ".sk-estimator-doc-link.fitted:hover,\n",
       "div.sk-label-container:hover .sk-estimator-doc-link.fitted:hover,\n",
       ".sk-estimator-doc-link.fitted:hover {\n",
       "  /* fitted */\n",
       "  background-color: var(--sklearn-color-fitted-level-3);\n",
       "  color: var(--sklearn-color-background);\n",
       "  text-decoration: none;\n",
       "}\n",
       "\n",
       "/* Span, style for the box shown on hovering the info icon */\n",
       ".sk-estimator-doc-link span {\n",
       "  display: none;\n",
       "  z-index: 9999;\n",
       "  position: relative;\n",
       "  font-weight: normal;\n",
       "  right: .2ex;\n",
       "  padding: .5ex;\n",
       "  margin: .5ex;\n",
       "  width: min-content;\n",
       "  min-width: 20ex;\n",
       "  max-width: 50ex;\n",
       "  color: var(--sklearn-color-text);\n",
       "  box-shadow: 2pt 2pt 4pt #999;\n",
       "  /* unfitted */\n",
       "  background: var(--sklearn-color-unfitted-level-0);\n",
       "  border: .5pt solid var(--sklearn-color-unfitted-level-3);\n",
       "}\n",
       "\n",
       ".sk-estimator-doc-link.fitted span {\n",
       "  /* fitted */\n",
       "  background: var(--sklearn-color-fitted-level-0);\n",
       "  border: var(--sklearn-color-fitted-level-3);\n",
       "}\n",
       "\n",
       ".sk-estimator-doc-link:hover span {\n",
       "  display: block;\n",
       "}\n",
       "\n",
       "/* \"?\"-specific style due to the `<a>` HTML tag */\n",
       "\n",
       "#sk-container-id-1 a.estimator_doc_link {\n",
       "  float: right;\n",
       "  font-size: 1rem;\n",
       "  line-height: 1em;\n",
       "  font-family: monospace;\n",
       "  background-color: var(--sklearn-color-background);\n",
       "  border-radius: 1rem;\n",
       "  height: 1rem;\n",
       "  width: 1rem;\n",
       "  text-decoration: none;\n",
       "  /* unfitted */\n",
       "  color: var(--sklearn-color-unfitted-level-1);\n",
       "  border: var(--sklearn-color-unfitted-level-1) 1pt solid;\n",
       "}\n",
       "\n",
       "#sk-container-id-1 a.estimator_doc_link.fitted {\n",
       "  /* fitted */\n",
       "  border: var(--sklearn-color-fitted-level-1) 1pt solid;\n",
       "  color: var(--sklearn-color-fitted-level-1);\n",
       "}\n",
       "\n",
       "/* On hover */\n",
       "#sk-container-id-1 a.estimator_doc_link:hover {\n",
       "  /* unfitted */\n",
       "  background-color: var(--sklearn-color-unfitted-level-3);\n",
       "  color: var(--sklearn-color-background);\n",
       "  text-decoration: none;\n",
       "}\n",
       "\n",
       "#sk-container-id-1 a.estimator_doc_link.fitted:hover {\n",
       "  /* fitted */\n",
       "  background-color: var(--sklearn-color-fitted-level-3);\n",
       "}\n",
       "</style><div id=\"sk-container-id-1\" class=\"sk-top-container\"><div class=\"sk-text-repr-fallback\"><pre>LGBMClassifier(class_weight=&#x27;balanced&#x27;, n_jobs=-1, objective=&#x27;binary&#x27;,\n",
       "               random_state=42)</pre><b>In a Jupyter environment, please rerun this cell to show the HTML representation or trust the notebook. <br />On GitHub, the HTML representation is unable to render, please try loading this page with nbviewer.org.</b></div><div class=\"sk-container\" hidden><div class=\"sk-item\"><div class=\"sk-estimator fitted sk-toggleable\"><input class=\"sk-toggleable__control sk-hidden--visually\" id=\"sk-estimator-id-1\" type=\"checkbox\" checked><label for=\"sk-estimator-id-1\" class=\"sk-toggleable__label fitted sk-toggleable__label-arrow\"><div><div>LGBMClassifier</div></div><div><span class=\"sk-estimator-doc-link fitted\">i<span>Fitted</span></span></div></label><div class=\"sk-toggleable__content fitted\"><pre>LGBMClassifier(class_weight=&#x27;balanced&#x27;, n_jobs=-1, objective=&#x27;binary&#x27;,\n",
       "               random_state=42)</pre></div> </div></div></div></div>"
      ]
     },
     "execution_count": 18,
     "metadata": {},
     "output_type": "execute_result"
    }
   ],
   "execution_count": 18
  },
  {
   "metadata": {},
   "cell_type": "markdown",
   "source": "### Evaluaciones del modelo inicial",
   "id": "f9f997ce695787d4"
  },
  {
   "metadata": {
    "ExecuteTime": {
     "end_time": "2025-05-12T00:01:44.688814Z",
     "start_time": "2025-05-12T00:01:44.686377Z"
    }
   },
   "cell_type": "code",
   "source": "from sklearn.metrics import roc_auc_score, f1_score, classification_report",
   "id": "56511170d4343849",
   "outputs": [],
   "execution_count": 19
  },
  {
   "metadata": {
    "ExecuteTime": {
     "end_time": "2025-05-12T00:01:44.958304Z",
     "start_time": "2025-05-12T00:01:44.715717Z"
    }
   },
   "cell_type": "code",
   "source": [
    "# Predicciones\n",
    "y_pred = model.predict(X_test)\n",
    "y_proba = model.predict_proba(X_test)[:, 1]"
   ],
   "id": "b53d8efec7e67650",
   "outputs": [],
   "execution_count": 20
  },
  {
   "metadata": {
    "ExecuteTime": {
     "end_time": "2025-05-12T00:01:45.082514Z",
     "start_time": "2025-05-12T00:01:44.986354Z"
    }
   },
   "cell_type": "code",
   "source": [
    "# Métricas\n",
    "roc = roc_auc_score(y_test, y_proba)\n",
    "f1 = f1_score(y_test, y_pred)"
   ],
   "id": "5c89bafa85657bb9",
   "outputs": [],
   "execution_count": 21
  },
  {
   "metadata": {
    "ExecuteTime": {
     "end_time": "2025-05-12T00:01:45.188404Z",
     "start_time": "2025-05-12T00:01:45.104641Z"
    }
   },
   "cell_type": "code",
   "source": [
    "print(\"AUC-ROC:\", roc)\n",
    "print(\"F1-Score:\", f1)\n",
    "print(classification_report(y_test, y_pred, digits=4))"
   ],
   "id": "d91e2a057656b8b5",
   "outputs": [
    {
     "name": "stdout",
     "output_type": "stream",
     "text": [
      "AUC-ROC: 0.9995155187215816\n",
      "F1-Score: 0.9325058184639256\n",
      "              precision    recall  f1-score   support\n",
      "\n",
      "           0     1.0000    0.9993    0.9996    460686\n",
      "           1     0.8764    0.9963    0.9325      2413\n",
      "\n",
      "    accuracy                         0.9992    463099\n",
      "   macro avg     0.9382    0.9978    0.9661    463099\n",
      "weighted avg     0.9993    0.9992    0.9993    463099\n",
      "\n"
     ]
    }
   ],
   "execution_count": 22
  },
  {
   "metadata": {
    "ExecuteTime": {
     "end_time": "2025-05-12T00:01:45.350947Z",
     "start_time": "2025-05-12T00:01:45.194410Z"
    }
   },
   "cell_type": "code",
   "source": [
    "feature_imp = pd.Series(model.feature_importances_, index=X_train.columns).sort_values(ascending=False)\n",
    "plt.figure(figsize=(10, 8))\n",
    "sns.barplot(x=feature_imp.head(20), y=feature_imp.head(20).index)\n",
    "plt.title(\"Top 20 Características Más Importantes\")\n",
    "plt.xlabel(\"Importancia\")\n",
    "plt.ylabel(\"Feature\")\n",
    "plt.tight_layout()\n",
    "plt.show()"
   ],
   "id": "1a9cf84edf09fbf3",
   "outputs": [
    {
     "data": {
      "text/plain": [
       "<Figure size 1000x800 with 1 Axes>"
      ],
      "image/png": "[encoded data removed]"
     },
     "metadata": {},
     "output_type": "display_data"
    }
   ],
   "execution_count": 23
  }
 ],
 "metadata": {
  "kernelspec": {
   "display_name": "Python 3",
   "language": "python",
   "name": "python3"
  },
  "language_info": {
   "codemirror_mode": {
    "name": "ipython",
    "version": 2
   },
   "file_extension": ".py",
   "mimetype": "text/x-python",
   "name": "python",
   "nbconvert_exporter": "python",
   "pygments_lexer": "ipython2",
   "version": "2.7.6"
  }
 },
 "nbformat": 4,
 "nbformat_minor": 5
}
