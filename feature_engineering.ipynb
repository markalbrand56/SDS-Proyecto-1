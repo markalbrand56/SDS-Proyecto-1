{
 "cells": [
  {
   "metadata": {},
   "cell_type": "markdown",
   "source": "# Trabajo Práctico 1: Métricas custom para reducción de falsos positivos en clasificación binaria fraude",
   "id": "9cf7715268eda40f"
  },
  {
   "metadata": {},
   "cell_type": "markdown",
   "source": "## Feature Engineering",
   "id": "ca4ada8ec58b4360"
  },
  {
   "metadata": {},
   "cell_type": "code",
   "outputs": [],
   "execution_count": null,
   "source": [
    "import pandas as pd\n",
    "import numpy as np"
   ],
   "id": "5d2af1954459938d"
  },
  {
   "metadata": {},
   "cell_type": "code",
   "outputs": [],
   "execution_count": null,
   "source": [
    "dataset = pd.read_csv(\"data/dataset_feature_engineering.csv\")\n",
    "dataset"
   ],
   "id": "810c978ac6f7383"
  }
 ],
 "metadata": {
  "kernelspec": {
   "display_name": "Python 3",
   "language": "python",
   "name": "python3"
  },
  "language_info": {
   "codemirror_mode": {
    "name": "ipython",
    "version": 2
   },
   "file_extension": ".py",
   "mimetype": "text/x-python",
   "name": "python",
   "nbconvert_exporter": "python",
   "pygments_lexer": "ipython2",
   "version": "2.7.6"
  }
 },
 "nbformat": 4,
 "nbformat_minor": 5
}
